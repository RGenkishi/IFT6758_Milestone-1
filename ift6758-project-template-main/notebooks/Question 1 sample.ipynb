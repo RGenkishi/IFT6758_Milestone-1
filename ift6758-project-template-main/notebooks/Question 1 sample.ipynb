{
 "cells": [
  {
   "cell_type": "markdown",
   "id": "dedd5bb0-0c41-4e99-9e13-0aabaeac9bba",
   "metadata": {},
   "source": [
    "# Sample code for Question 1\n",
    "\n",
    "This notebook shows how you can use the provided Python function to pull player stats from an online website.\n",
    "This function lives in a custom package that is provided to you in this repository.\n",
    "You are encouraged to leverage this package as a skeleton and add all of your reusable code, functions, etc. into relevant modules.\n",
    "This makes collaboration much easier as the package could be seen as a \"single source of truth\" to pull data, create visualizations, etc. rather than relying on a jumble of notebooks.\n",
    "You can still run into trouble if branches are not frequently merged as work progresses, so try to not let your branches diverge too much."
   ]
  },
  {
   "cell_type": "code",
   "execution_count": 31,
   "id": "51fe610c-9647-48a6-a49c-c0ee26d5b28b",
   "metadata": {},
   "outputs": [],
   "source": [
    "import pandas as pd\n",
    "\n",
    "from ift6758.data import get_player_stats"
   ]
  },
  {
   "cell_type": "markdown",
   "id": "64ac3fbd-9100-43df-b100-b3589a34602b",
   "metadata": {},
   "source": [
    "If the above doesn't work for you, make sure you've installed the repo as specified in the readme file. \n",
    "Essentially you must make sure that your environment is setup (either through conda or virtualenv), and then install it using:\n",
    "\n",
    "```bash\n",
    "pip install -e /path/to/repo \n",
    "```\n",
    "\n",
    "The nice thing using this approach is if you have your environment activated, you can import modules from anywhere on your system!"
   ]
  },
  {
   "cell_type": "code",
   "execution_count": 32,
   "id": "663c6229-089f-4244-945e-e81540698e3e",
   "metadata": {},
   "outputs": [
    {
     "name": "stdout",
     "output_type": "stream",
     "text": [
      "Retrieving data from 'https://www.hockey-reference.com/leagues/NHL_2018_goalies.html'...\n"
     ]
    }
   ],
   "source": [
    "df = get_player_stats(2018, 'goalies')"
   ]
  },
  {
   "cell_type": "markdown",
   "id": "f2288804-5936-45f8-b186-bc9bccbbaf4d",
   "metadata": {},
   "source": [
    "If you're curious, this function uses the `pd.read_html()` method ([doc](https://pandas.pydata.org/pandas-docs/stable/reference/api/pandas.read_html.html)), which internally uses [Beautiful Soup](https://www.crummy.com/software/BeautifulSoup/bs4/doc/) to parse HTML data."
   ]
  },
  {
   "cell_type": "code",
   "execution_count": 33,
   "id": "78f8a1a2-8262-4966-9a8d-38b1e516e2c8",
   "metadata": {},
   "outputs": [
    {
     "data": {
      "text/plain": "  Rk             Player Age   Tm  GP  GS   W   L T/O   GA  ...   MIN  QS  \\\n0  1         Jake Allen  27  STL  59  56  27  25   3  152  ...  3317  27   \n1  2  Frederik Andersen  28  TOR  66  66  38  21   5  182  ...  3889  37   \n2  3     Craig Anderson  36  OTT  58  55  23  25   6  180  ...  3251  25   \n3  4        Ken Appleby  22  NJD   3   1   0   1   0    3  ...   124   0   \n4  5   Jonathan Bernier  29  COL  37  34  19  13   3   95  ...  2001  18   \n\n    QS% RBS GA%-    GSAA  G  A PTS PIM  \n0  .482   8  107  -10.34  0  1   1   0  \n1  .561   8   94   12.06  0  1   1   2  \n2  .455  11  116  -24.83  0  0   0   2  \n3  .000   0  NaN     NaN  0  0   0   0  \n4  .529   5   99    0.84  0  1   1   0  \n\n[5 rows x 26 columns]",
      "text/html": "<div>\n<style scoped>\n    .dataframe tbody tr th:only-of-type {\n        vertical-align: middle;\n    }\n\n    .dataframe tbody tr th {\n        vertical-align: top;\n    }\n\n    .dataframe thead th {\n        text-align: right;\n    }\n</style>\n<table border=\"1\" class=\"dataframe\">\n  <thead>\n    <tr style=\"text-align: right;\">\n      <th></th>\n      <th>Rk</th>\n      <th>Player</th>\n      <th>Age</th>\n      <th>Tm</th>\n      <th>GP</th>\n      <th>GS</th>\n      <th>W</th>\n      <th>L</th>\n      <th>T/O</th>\n      <th>GA</th>\n      <th>...</th>\n      <th>MIN</th>\n      <th>QS</th>\n      <th>QS%</th>\n      <th>RBS</th>\n      <th>GA%-</th>\n      <th>GSAA</th>\n      <th>G</th>\n      <th>A</th>\n      <th>PTS</th>\n      <th>PIM</th>\n    </tr>\n  </thead>\n  <tbody>\n    <tr>\n      <th>0</th>\n      <td>1</td>\n      <td>Jake Allen</td>\n      <td>27</td>\n      <td>STL</td>\n      <td>59</td>\n      <td>56</td>\n      <td>27</td>\n      <td>25</td>\n      <td>3</td>\n      <td>152</td>\n      <td>...</td>\n      <td>3317</td>\n      <td>27</td>\n      <td>.482</td>\n      <td>8</td>\n      <td>107</td>\n      <td>-10.34</td>\n      <td>0</td>\n      <td>1</td>\n      <td>1</td>\n      <td>0</td>\n    </tr>\n    <tr>\n      <th>1</th>\n      <td>2</td>\n      <td>Frederik Andersen</td>\n      <td>28</td>\n      <td>TOR</td>\n      <td>66</td>\n      <td>66</td>\n      <td>38</td>\n      <td>21</td>\n      <td>5</td>\n      <td>182</td>\n      <td>...</td>\n      <td>3889</td>\n      <td>37</td>\n      <td>.561</td>\n      <td>8</td>\n      <td>94</td>\n      <td>12.06</td>\n      <td>0</td>\n      <td>1</td>\n      <td>1</td>\n      <td>2</td>\n    </tr>\n    <tr>\n      <th>2</th>\n      <td>3</td>\n      <td>Craig Anderson</td>\n      <td>36</td>\n      <td>OTT</td>\n      <td>58</td>\n      <td>55</td>\n      <td>23</td>\n      <td>25</td>\n      <td>6</td>\n      <td>180</td>\n      <td>...</td>\n      <td>3251</td>\n      <td>25</td>\n      <td>.455</td>\n      <td>11</td>\n      <td>116</td>\n      <td>-24.83</td>\n      <td>0</td>\n      <td>0</td>\n      <td>0</td>\n      <td>2</td>\n    </tr>\n    <tr>\n      <th>3</th>\n      <td>4</td>\n      <td>Ken Appleby</td>\n      <td>22</td>\n      <td>NJD</td>\n      <td>3</td>\n      <td>1</td>\n      <td>0</td>\n      <td>1</td>\n      <td>0</td>\n      <td>3</td>\n      <td>...</td>\n      <td>124</td>\n      <td>0</td>\n      <td>.000</td>\n      <td>0</td>\n      <td>NaN</td>\n      <td>NaN</td>\n      <td>0</td>\n      <td>0</td>\n      <td>0</td>\n      <td>0</td>\n    </tr>\n    <tr>\n      <th>4</th>\n      <td>5</td>\n      <td>Jonathan Bernier</td>\n      <td>29</td>\n      <td>COL</td>\n      <td>37</td>\n      <td>34</td>\n      <td>19</td>\n      <td>13</td>\n      <td>3</td>\n      <td>95</td>\n      <td>...</td>\n      <td>2001</td>\n      <td>18</td>\n      <td>.529</td>\n      <td>5</td>\n      <td>99</td>\n      <td>0.84</td>\n      <td>0</td>\n      <td>1</td>\n      <td>1</td>\n      <td>0</td>\n    </tr>\n  </tbody>\n</table>\n<p>5 rows × 26 columns</p>\n</div>"
     },
     "execution_count": 33,
     "metadata": {},
     "output_type": "execute_result"
    }
   ],
   "source": [
    "df.head()"
   ]
  },
  {
   "cell_type": "code",
   "execution_count": 34,
   "id": "c45b2cd1-ffad-4a03-90ee-b33be167c407",
   "metadata": {
    "pycharm": {
     "name": "#%%\n"
    }
   },
   "outputs": [
    {
     "name": "stdout",
     "output_type": "stream",
     "text": [
      "                  Player   W    SV%\n",
      "27          Scott Foster   0  1.000\n",
      "88           Adam Wilcox   0  1.000\n",
      "51       Marek Langhamer   0  1.000\n",
      "16           Oscar Dansk   3  0.946\n",
      "3            Ken Appleby   0  0.945\n",
      "37        Andrew Hammond   0  0.939\n",
      "83         Linus Ullmark   1  0.935\n",
      "60     Curtis McElhinney  11  0.934\n",
      "43         Carter Hutton  17  0.931\n",
      "70          Antti Raanta  21  0.930\n",
      "15        Corey Crawford  16  0.929\n",
      "56        Roberto Luongo  18  0.929\n",
      "62           Ryan Miller  12  0.928\n",
      "25     Marc-Andre Fleury  29  0.927\n",
      "73           Pekka Rinne  42  0.927\n",
      "5             Reto Berra   1  0.926\n",
      "30           John Gibson  31  0.926\n",
      "75           Juuse Saros  11  0.925\n",
      "38     Connor Hellebuyck  44  0.924\n",
      "11         Jack Campbell   2  0.924\n",
      "34      Philipp Grubauer  15  0.923\n",
      "21         Casey DeSmith   6  0.921\n",
      "8       Sergei Bobrovsky  37  0.921\n",
      "69        Jonathan Quick  33  0.921\n",
      "90         Darcy Kuemper  12  0.920\n",
      "84       Semyon Varlamov  24  0.920\n",
      "85    Andrei Vasilevskiy  44  0.920\n",
      "1      Frederik Andersen  38  0.918\n",
      "22          Devan Dubnyk  35  0.918\n",
      "28    Alexandar Georgiev   4  0.918\n",
      "71           Tuukka Rask  34  0.917\n",
      "78            Mike Smith  25  0.916\n",
      "7             Ben Bishop  26  0.916\n",
      "64       Michal Neuvirth   9  0.915\n",
      "46          Martin Jones  30  0.915\n",
      "55      Henrik Lundqvist  26  0.915\n",
      "19            Aaron Dell  15  0.914\n",
      "72          James Reimer  22  0.913\n",
      "48         Keith Kinkaid  26  0.913\n",
      "4       Jonathan Bernier  19  0.913\n",
      "47        Anton Khudobin  16  0.913\n",
      "58       Jacob Markstrom  23  0.912\n",
      "53         Kari Lehtonen  15  0.912\n",
      "76          Harri Sateri   4  0.911\n",
      "94           Antti Niemi   7  0.911\n",
      "79          Alex Stalock  10  0.910\n",
      "41          Jimmy Howard  22  0.910\n",
      "66        Ondrej Pavelec   4  0.910\n",
      "80        Malcolm Subban  13  0.910\n",
      "23         Brian Elliott  23  0.909\n",
      "44         Tristan Jarry  14  0.908\n",
      "29    Christopher Gibson   2  0.908\n",
      "81            Cam Talbot  31  0.908\n",
      "26        Anton Forsberg  10  0.908\n",
      "52          Robin Lehner  14  0.908\n",
      "54      Charlie Lindgren   4  0.908\n",
      "35        Jaroslav Halak  20  0.908\n",
      "63           Matt Murray  27  0.907\n",
      "40         Braden Holtby  34  0.907\n",
      "77        Cory Schneider  17  0.907\n",
      "42    Michael Hutchinson   2  0.907\n",
      "86              Cam Ward  23  0.906\n",
      "0             Jake Allen  27  0.906\n",
      "59           Steve Mason   5  0.906\n",
      "57             Alex Lyon   4  0.905\n",
      "74         David Rittich   8  0.904\n",
      "13           Mike Condon   5  0.902\n",
      "93           Petr Mrazek  14  0.902\n",
      "65        Anders Nilsson   7  0.901\n",
      "61          Mike McKenna   1  0.900\n",
      "68           Carey Price  16  0.900\n",
      "2         Craig Anderson  23  0.898\n",
      "32            Jeff Glass   3  0.898\n",
      "49      Joonas Korpisalo   8  0.897\n",
      "31           Jon Gillies   3  0.896\n",
      "6   Jean-Francois Berube   3  0.894\n",
      "89        Louis Domingue   7  0.894\n",
      "87       Scott Wedgewood   5  0.893\n",
      "92            Al Montoya   4  0.893\n",
      "33         Thomas Greiss  13  0.892\n",
      "45          Chad Johnson  10  0.891\n",
      "39             Adin Hill   1  0.891\n",
      "18          Collin Delia   1  0.889\n",
      "17         Scott Darling  13  0.888\n",
      "9       Laurent Brossoit   3  0.883\n",
      "82         Daniel Taylor   0  0.882\n",
      "10           Peter Budaj   3  0.876\n",
      "12           Eric Comrie   1  0.872\n",
      "91            Eddie Läck   2  0.870\n",
      "14          Jared Coreau   0  0.867\n",
      "20        Thatcher Demko   1  0.867\n",
      "50         Maxime Lagace   6  0.867\n",
      "67        Calvin Pickard   0  0.857\n",
      "36     Brandon Halverson   0  0.833\n",
      "24        Dylan Ferguson   0  0.500\n"
     ]
    }
   ],
   "source": [
    "pd.set_option(\"max_rows\", None)  # Affiche toute les lignes\n",
    "\n",
    "df[\"SV%\"] = pd.to_numeric(df[\"SV%\"], errors='coerce').fillna(0)  # formate la colonne %SV en numérique et remplis les NaN par des 0\n",
    "sortedGoalie = df.sort_values(by=\"SV%\", ascending=False)\n",
    "\n",
    "print(sortedGoalie[[\"Player\", \"W\", \"SV%\"]])\n",
    "\n"
   ]
  },
  {
   "cell_type": "markdown",
   "source": [
    "Student : Un problème apparait clairement puisqu'on ne prends pas en compte les victoires des goal.\n",
    "On devrait trier les goals par victoire puis par SV%.\n",
    "\n",
    "Question 2:"
   ],
   "metadata": {
    "collapsed": false
   }
  },
  {
   "cell_type": "code",
   "execution_count": 35,
   "outputs": [
    {
     "name": "stdout",
     "output_type": "stream",
     "text": [
      "                  Player   W    SV%\n",
      "38     Connor Hellebuyck  44  0.924\n",
      "85    Andrei Vasilevskiy  44  0.920\n",
      "73           Pekka Rinne  42  0.927\n",
      "1      Frederik Andersen  38  0.918\n",
      "8       Sergei Bobrovsky  37  0.921\n",
      "22          Devan Dubnyk  35  0.918\n",
      "71           Tuukka Rask  34  0.917\n",
      "40         Braden Holtby  34  0.907\n",
      "69        Jonathan Quick  33  0.921\n",
      "30           John Gibson  31  0.926\n",
      "81            Cam Talbot  31  0.908\n",
      "46          Martin Jones  30  0.915\n",
      "25     Marc-Andre Fleury  29  0.927\n",
      "63           Matt Murray  27  0.907\n",
      "0             Jake Allen  27  0.906\n",
      "7             Ben Bishop  26  0.916\n",
      "55      Henrik Lundqvist  26  0.915\n",
      "48         Keith Kinkaid  26  0.913\n",
      "78            Mike Smith  25  0.916\n",
      "84       Semyon Varlamov  24  0.920\n",
      "58       Jacob Markstrom  23  0.912\n",
      "23         Brian Elliott  23  0.909\n",
      "86              Cam Ward  23  0.906\n",
      "2         Craig Anderson  23  0.898\n",
      "72          James Reimer  22  0.913\n",
      "41          Jimmy Howard  22  0.910\n",
      "70          Antti Raanta  21  0.930\n",
      "35        Jaroslav Halak  20  0.908\n",
      "4       Jonathan Bernier  19  0.913\n",
      "56        Roberto Luongo  18  0.929\n",
      "43         Carter Hutton  17  0.931\n",
      "77        Cory Schneider  17  0.907\n",
      "15        Corey Crawford  16  0.929\n",
      "47        Anton Khudobin  16  0.913\n",
      "68           Carey Price  16  0.900\n",
      "34      Philipp Grubauer  15  0.923\n",
      "19            Aaron Dell  15  0.914\n",
      "53         Kari Lehtonen  15  0.912\n",
      "44         Tristan Jarry  14  0.908\n",
      "52          Robin Lehner  14  0.908\n",
      "93           Petr Mrazek  14  0.902\n",
      "80        Malcolm Subban  13  0.910\n",
      "33         Thomas Greiss  13  0.892\n",
      "17         Scott Darling  13  0.888\n",
      "62           Ryan Miller  12  0.928\n",
      "90         Darcy Kuemper  12  0.920\n",
      "60     Curtis McElhinney  11  0.934\n",
      "75           Juuse Saros  11  0.925\n",
      "79          Alex Stalock  10  0.910\n",
      "26        Anton Forsberg  10  0.908\n",
      "45          Chad Johnson  10  0.891\n",
      "64       Michal Neuvirth   9  0.915\n",
      "74         David Rittich   8  0.904\n",
      "49      Joonas Korpisalo   8  0.897\n",
      "94           Antti Niemi   7  0.911\n",
      "65        Anders Nilsson   7  0.901\n",
      "89        Louis Domingue   7  0.894\n",
      "21         Casey DeSmith   6  0.921\n",
      "50         Maxime Lagace   6  0.867\n",
      "59           Steve Mason   5  0.906\n",
      "13           Mike Condon   5  0.902\n",
      "87       Scott Wedgewood   5  0.893\n",
      "28    Alexandar Georgiev   4  0.918\n",
      "76          Harri Sateri   4  0.911\n",
      "66        Ondrej Pavelec   4  0.910\n",
      "54      Charlie Lindgren   4  0.908\n",
      "57             Alex Lyon   4  0.905\n",
      "92            Al Montoya   4  0.893\n",
      "16           Oscar Dansk   3  0.946\n",
      "32            Jeff Glass   3  0.898\n",
      "31           Jon Gillies   3  0.896\n",
      "6   Jean-Francois Berube   3  0.894\n",
      "9       Laurent Brossoit   3  0.883\n",
      "10           Peter Budaj   3  0.876\n",
      "11         Jack Campbell   2  0.924\n",
      "29    Christopher Gibson   2  0.908\n",
      "42    Michael Hutchinson   2  0.907\n",
      "91            Eddie Läck   2  0.870\n",
      "83         Linus Ullmark   1  0.935\n",
      "5             Reto Berra   1  0.926\n",
      "61          Mike McKenna   1  0.900\n",
      "39             Adin Hill   1  0.891\n",
      "18          Collin Delia   1  0.889\n",
      "12           Eric Comrie   1  0.872\n",
      "20        Thatcher Demko   1  0.867\n",
      "27          Scott Foster   0  1.000\n",
      "51       Marek Langhamer   0  1.000\n",
      "88           Adam Wilcox   0  1.000\n",
      "3            Ken Appleby   0  0.945\n",
      "37        Andrew Hammond   0  0.939\n",
      "82         Daniel Taylor   0  0.882\n",
      "14          Jared Coreau   0  0.867\n",
      "67        Calvin Pickard   0  0.857\n",
      "36     Brandon Halverson   0  0.833\n",
      "24        Dylan Ferguson   0  0.500\n"
     ]
    }
   ],
   "source": [
    "df[\"W\"] = pd.to_numeric(df[\"W\"], errors='coerce')\n",
    "reSortedGoalie = df.sort_values(by=[\"W\", \"SV%\"], ascending=False)\n",
    "\n",
    "print(reSortedGoalie[[\"Player\", \"W\", \"SV%\"]])"
   ],
   "metadata": {
    "collapsed": false,
    "pycharm": {
     "name": "#%%\n"
    }
   }
  },
  {
   "cell_type": "markdown",
   "source": [
    "Graphique"
   ],
   "metadata": {
    "collapsed": false,
    "pycharm": {
     "name": "#%% md\n"
    }
   }
  },
  {
   "cell_type": "code",
   "execution_count": 36,
   "outputs": [
    {
     "data": {
      "text/plain": "<Figure size 432x288 with 1 Axes>",
      "image/png": "[encoded data removed]"
     },
     "metadata": {
      "needs_background": "light"
     },
     "output_type": "display_data"
    }
   ],
   "source": [
    "import matplotlib.pyplot as plt\n",
    "import numpy as np\n",
    "\n",
    "x = np.arange(20)\n",
    "#print(reSortedGoalie[[\"Player\", \"SV%\"]][:20])\n",
    "histo = plt.bar(x, height=reSortedGoalie[\"SV%\"][:20])\n",
    "plt.xticks(x, reSortedGoalie[\"Player\"][:20], rotation=90)\n",
    "plt.axis([-1, 20, min(reSortedGoalie[\"SV%\"][:20])-0.5, max(reSortedGoalie[\"SV%\"][:20])+0.2])\n",
    "plt.title(\"Pourcentage d'arrêts sur le classement des 20 meilleurs gardiens\")\n",
    "plt.xlabel(\"Gardiens\")\n",
    "plt.ylabel(\"VS%\")\n",
    "plt.show()\n"
   ],
   "metadata": {
    "collapsed": false,
    "pycharm": {
     "name": "#%%\n"
    }
   }
  }
 ],
 "metadata": {
  "kernelspec": {
   "name": "ift6758-conda-env",
   "language": "python",
   "display_name": "ift6758-conda-env"
  },
  "language_info": {
   "codemirror_mode": {
    "name": "ipython",
    "version": 3
   },
   "file_extension": ".py",
   "mimetype": "text/x-python",
   "name": "python",
   "nbconvert_exporter": "python",
   "pygments_lexer": "ipython3",
   "version": "3.9.7"
  }
 },
 "nbformat": 4,
 "nbformat_minor": 5
}