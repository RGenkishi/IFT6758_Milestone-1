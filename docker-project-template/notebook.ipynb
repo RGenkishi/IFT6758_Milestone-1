{
 "cells": [
  {
   "cell_type": "markdown",
   "metadata": {},
   "source": [
    "**INTRODUCTION**\n",
    "Pour surveiller les logs du serveur, vous pouvez charger la page http://0.0.0.0:8080/logs\n",
    "dans un onglet de votre navigateur. Nous vous conseillons d'utiliser Firefox qui est capable de présenter correctement\n",
    "les données json.\n",
    "\n",
    "Après chaque exécution d'une cellule, vous pouvez rafraichir la page des log pour voir quel sont les nouveaux\n",
    "événements survenus sur le serveur"
   ]
  },
  {
   "cell_type": "code",
   "execution_count": 1,
   "metadata": {},
   "outputs": [],
   "source": [
    "from ift6758.ift6758.client.clientApp import ClientApp\n",
    "\n",
    "ca = ClientApp(ip=\"0.0.0.0\", port=8080)"
   ]
  },
  {
   "cell_type": "markdown",
   "metadata": {},
   "source": [
    "**MISE EN BOUCHE**\n",
    "\n",
    "Il est possible d'effectuer de 'simple' prédictions à partir de valeurs directement spécifiées dans un champ.\n",
    "\n",
    "__Simple prédiction avec le modèle iris__\n",
    "\n",
    "Nous vous proposons de faire une simple prédiction sur les données d'iris.\n",
    "\n",
    "Le bouton 'download model' permet de télécharger le modèle.\n",
    "\n",
    "Le bouton 'predict' permet d'effectuer une simple prédiction à partir des données passées dans le champ\n",
    "'features values'.\n",
    "\n",
    "Ici, la requête s'effectue normalement avec succès."
   ]
  },
  {
   "cell_type": "code",
   "execution_count": 2,
   "metadata": {
    "collapsed": false,
    "jupyter": {
     "outputs_hidden": false
    },
    "pycharm": {
     "name": "#%%\n"
    }
   },
   "outputs": [
    {
     "data": {
      "application/vnd.jupyter.widget-view+json": {
       "model_id": "9911887982974df3bda5f1c2734189ff",
       "version_major": 2,
       "version_minor": 0
      },
      "text/plain": [
       "VBox(children=(Text(value='genkishi', description='Workspace:', placeholder='genkishi'), Text(value='log-reg-d…"
      ]
     },
     "metadata": {},
     "output_type": "display_data"
    },
    {
     "data": {
      "application/vnd.jupyter.widget-view+json": {
       "model_id": "e76c62255d7f43918eecde502137e5f5",
       "version_major": 2,
       "version_minor": 0
      },
      "text/plain": [
       "VBox(children=(Text(value='[[5.8, 2.8, 5.1, 2.4], [5.6, 2.8, 4.9, 2.0]]', description='Feature values:', place…"
      ]
     },
     "metadata": {},
     "output_type": "display_data"
    }
   ],
   "source": [
    "ca.lauch_widget_simple_prediction(default_features_values='[[5.8, 2.8, 5.1, 2.4], [5.6, 2.8, 4.9, 2.0]]',\n",
    "                                  defaut_choice_model_name='iris-model')"
   ]
  },
  {
   "cell_type": "markdown",
   "metadata": {
    "pycharm": {
     "name": "#%% md\n"
    }
   },
   "source": [
    "__Simple prédiction avec le modèle log-reg-distance-angle__\n",
    "\n",
    "Si l'on essaye de faire de même avec le modèle 'log-reg-distance-angle', le modèle n'est pas capable de faire de\n",
    "prédictions avec autant de champs puisqu'il ne s'appuie que sur l'angle et la distance.\n",
    "Une erreur s'affiche donc à l'éxecution:"
   ]
  },
  {
   "cell_type": "code",
   "execution_count": null,
   "metadata": {
    "collapsed": false,
    "jupyter": {
     "outputs_hidden": false
    },
    "pycharm": {
     "name": "#%%\n"
    }
   },
   "outputs": [],
   "source": [
    "ca.lauch_widget_simple_prediction(default_features_values='[[5.8, 2.8, 5.1, 2.4], [5.6, 2.8, 4.9, 2.0]]')"
   ]
  },
  {
   "cell_type": "markdown",
   "metadata": {
    "pycharm": {
     "name": "#%% md\n"
    }
   },
   "source": [
    "avec des valeurs compatible avec le modèle, celà fonctionne :"
   ]
  },
  {
   "cell_type": "code",
   "execution_count": null,
   "metadata": {
    "collapsed": false,
    "jupyter": {
     "outputs_hidden": false
    },
    "pycharm": {
     "name": "#%%\n"
    }
   },
   "outputs": [],
   "source": [
    "ca.lauch_widget_simple_prediction(default_features_values='[[40, 120], [10, 50]]')\n",
    "\n"
   ]
  },
  {
   "cell_type": "markdown",
   "metadata": {
    "pycharm": {
     "name": "#%% md\n"
    }
   },
   "source": [
    "**PREDICTION SUR LES DERNIERES DONNEES DE JEU**\n",
    "\n",
    "Pour effectuer des prédictions en directe, nous récupérons les dernières données que nous n'avions pas encore chargé\n",
    "depuis ce notebook.\n",
    "La cellule ci-dessous charge les dernières données et affiche la première nouvelle donnée récupérée.\n",
    "Si il n'y a pas de nouvelle données, un message l'indique.\n",
    "\n",
    "Si des données locale existent, le système les charge en mémoire et fait des requêtes d'événements à l'API à partir du\n",
    "dernier évènement local. On ne charge ainsi que les derniers match non téléchargés.\n",
    "\n",
    "LE TELECHARGEMENT DE NOUVELLES DONNEES PEUT ETRE LONG.\n",
    "SI LE MESSAGE 'last time : ...' S'AFFICHE,  PATIENTER LE TEMPS DU TELECHARGEMENT\n",
    "\n",
    "\n",
    "La cellule suivante permet de remettre le dernier game_time à 'forever' pour faire plusieurs test si il n'y a pas de\n",
    "nouvelles données à télécharger entre temps"
   ]
  },
  {
   "cell_type": "code",
   "execution_count": 3,
   "metadata": {
    "pycharm": {
     "name": "#%%\n"
    }
   },
   "outputs": [
    {
     "data": {
      "application/vnd.jupyter.widget-view+json": {
       "model_id": "38f00172ad4d4919931db0256241c0ec",
       "version_major": 2,
       "version_minor": 0
      },
      "text/plain": [
       "VBox(children=(Button(description='reset last_game_time', icon='microchip-ai', style=ButtonStyle(), tooltip='C…"
      ]
     },
     "metadata": {},
     "output_type": "display_data"
    }
   ],
   "source": [
    "ca.lauch_widget_reset_last_game_time()\n"
   ]
  },
  {
   "cell_type": "markdown",
   "metadata": {
    "pycharm": {
     "name": "#%% md\n"
    }
   },
   "source": [
    "__Prediction avec le modele log-reg-distance-angle__\n",
    "\n",
    "Chargez le modèle, charger les derniers évènements puis lancez une prédiction"
   ]
  },
  {
   "cell_type": "code",
   "execution_count": 2,
   "metadata": {
    "collapsed": false,
    "jupyter": {
     "outputs_hidden": false
    },
    "pycharm": {
     "name": "#%%\n"
    }
   },
   "outputs": [
    {
     "data": {
      "application/vnd.jupyter.widget-view+json": {
       "model_id": "fba094975c2e49b998bda2d65ee893aa",
       "version_major": 2,
       "version_minor": 0
      },
      "text/plain": [
       "VBox(children=(Text(value='genkishi', description='Workspace:', placeholder='genkishi'), Text(value='log-reg-d…"
      ]
     },
     "metadata": {},
     "output_type": "display_data"
    },
    {
     "data": {
      "application/vnd.jupyter.widget-view+json": {
       "model_id": "a01172dbea044d51b053228a30658cc1",
       "version_major": 2,
       "version_minor": 0
      },
      "text/plain": [
       "VBox(children=(Button(description='Get New Data', icon='circle-arrow-down', style=ButtonStyle(), tooltip='Clic…"
      ]
     },
     "metadata": {},
     "output_type": "display_data"
    },
    {
     "data": {
      "application/vnd.jupyter.widget-view+json": {
       "model_id": "4c2ff64aba064efa9c472b42c28a5350",
       "version_major": 2,
       "version_minor": 0
      },
      "text/plain": [
       "VBox(children=(Button(description='Predict', icon='microchip-ai', style=ButtonStyle(), tooltip='Click me'), Ou…"
      ]
     },
     "metadata": {},
     "output_type": "display_data"
    }
   ],
   "source": [
    "ca.lauch_widget_prediction_on_new_data()"
   ]
  },
  {
   "cell_type": "code",
   "execution_count": null,
   "metadata": {},
   "outputs": [],
   "source": []
  }
 ],
 "metadata": {
  "kernelspec": {
   "display_name": "Python 3 (ipykernel)",
   "language": "python",
   "name": "python3"
  },
  "language_info": {
   "codemirror_mode": {
    "name": "ipython",
    "version": 3
   },
   "file_extension": ".py",
   "mimetype": "text/x-python",
   "name": "python",
   "nbconvert_exporter": "python",
   "pygments_lexer": "ipython3",
   "version": "3.9.7"
  }
 },
 "nbformat": 4,
 "nbformat_minor": 4
}
