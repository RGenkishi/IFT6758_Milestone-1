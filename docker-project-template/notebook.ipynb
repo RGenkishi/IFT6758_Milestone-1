{
 "cells": [
  {
   "cell_type": "markdown",
   "metadata": {},
   "source": [
    "**INTRODUCTION**\n",
    "\n",
    "Pour surveiller les logs du serveur, vous pouvez charger la page http://0.0.0.0:8080/logs\n",
    "dans un onglet de votre navigateur. Nous vous conseillons d'utiliser Firefox qui est capable de présenter correctement\n",
    "les données json.\n",
    "\n",
    "Après chaque exécution d'une cellule, vous pouvez rafraichir la page des log pour voir quel sont les nouveaux\n",
    "événements survenus sur le serveur"
   ]
  },
  {
   "cell_type": "code",
   "execution_count": 1,
   "metadata": {},
   "outputs": [],
   "source": [
    "from ift6758.ift6758.client.clientApp import ClientApp\n",
    "\n",
    "ca = ClientApp(ip=\"0.0.0.0\", port=8080)"
   ]
  },
  {
   "cell_type": "markdown",
   "metadata": {
    "pycharm": {
     "name": "#%% md\n"
    }
   },
   "source": [
    "**CHOIX DE LA LANGUE**\n",
    "Vous pouvez ci-dessous choisir la langue des log et la langue des messages du serveur au du client et des messages du client lui même.\n",
    "Si des messages n'ont pas été prévu dans une langue, il est automatiquement récupéré en anglais."
   ]
  },
  {
   "cell_type": "code",
   "execution_count": 2,
   "metadata": {
    "collapsed": false,
    "jupyter": {
     "outputs_hidden": false
    },
    "pycharm": {
     "name": "#%%\n"
    }
   },
   "outputs": [
    {
     "data": {
      "application/vnd.jupyter.widget-view+json": {
       "model_id": "1699c17fc180492e8bdc534ed718578f",
       "version_major": 2,
       "version_minor": 0
      },
      "text/plain": [
       "VBox(children=(Dropdown(description='Language:', options=(('Anglais', 'LANG_LOG_ANG'), ('Français', 'LANG_LOG_…"
      ]
     },
     "metadata": {},
     "output_type": "display_data"
    },
    {
     "data": {
      "application/vnd.jupyter.widget-view+json": {
       "model_id": "fcf6898df9444dce86080a3f2124b3f5",
       "version_major": 2,
       "version_minor": 0
      },
      "text/plain": [
       "VBox(children=(Dropdown(description='Language:', options=(('Anglais', 'LANG_MSG_ANG'), ('Français', 'LANG_MSG_…"
      ]
     },
     "metadata": {},
     "output_type": "display_data"
    }
   ],
   "source": [
    "ca.launch_widget_log_langue()\n",
    "ca.launch_widget_msg_langue()"
   ]
  },
  {
   "cell_type": "markdown",
   "metadata": {},
   "source": [
    "**MISE EN BOUCHE**\n",
    "\n",
    "Il est possible d'effectuer de 'simple' prédictions à partir de valeurs directement spécifiées dans un champ.\n",
    "\n",
    "__Simple prédiction avec le modèle iris__\n",
    "\n",
    "Nous vous proposons de faire une simple prédiction sur les données d'iris.\n",
    "\n",
    "Le bouton 'download model' permet de télécharger le modèle.\n",
    "\n",
    "Le bouton 'predict' permet d'effectuer une simple prédiction à partir des données passées dans le champ\n",
    "'features values'.\n",
    "\n",
    "Ici, la requête s'effectue normalement avec succès."
   ]
  },
  {
   "cell_type": "code",
   "execution_count": 2,
   "metadata": {
    "collapsed": false,
    "jupyter": {
     "outputs_hidden": false
    },
    "pycharm": {
     "name": "#%%\n"
    }
   },
   "outputs": [
    {
     "data": {
      "application/vnd.jupyter.widget-view+json": {
       "model_id": "76d29e7b85354a5193e308bb652d507f",
       "version_major": 2,
       "version_minor": 0
      },
      "text/plain": [
       "VBox(children=(Text(value='genkishi', description='Workspace:', placeholder='genkishi'), Text(value='iris-mode…"
      ]
     },
     "metadata": {},
     "output_type": "display_data"
    },
    {
     "data": {
      "application/vnd.jupyter.widget-view+json": {
       "model_id": "e29628f47a8349d29ae74fe396f60492",
       "version_major": 2,
       "version_minor": 0
      },
      "text/plain": [
       "VBox(children=(Text(value='[[5.8, 2.8, 5.1, 2.4], [5.6, 2.8, 4.9, 2.0]]', description='Values:', placeholder='…"
      ]
     },
     "metadata": {},
     "output_type": "display_data"
    }
   ],
   "source": [
    "ca.lauch_widget_simple_prediction(default_features_values='[[5.8, 2.8, 5.1, 2.4], [5.6, 2.8, 4.9, 2.0]]',\n",
    "                                  defaut_choice_model_name='iris-model')"
   ]
  },
  {
   "cell_type": "markdown",
   "metadata": {
    "pycharm": {
     "name": "#%% md\n"
    }
   },
   "source": [
    "__Simple prédiction avec le modèle log-reg-distance-angle__\n",
    "\n",
    "Si l'on essaye de faire de même avec le modèle 'log-reg-distance-angle', le modèle n'est pas capable de faire de\n",
    "prédictions avec autant de champs puisqu'il ne s'appuie que sur l'angle et la distance.\n",
    "Une erreur s'affiche donc à l'éxecution:"
   ]
  },
  {
   "cell_type": "code",
   "execution_count": 4,
   "metadata": {
    "collapsed": false,
    "jupyter": {
     "outputs_hidden": false
    },
    "pycharm": {
     "name": "#%%\n"
    }
   },
   "outputs": [
    {
     "data": {
      "application/vnd.jupyter.widget-view+json": {
       "model_id": "bc19c8430af540c4ba8b0282483c5afc",
       "version_major": 2,
       "version_minor": 0
      },
      "text/plain": [
       "VBox(children=(Text(value='genkishi', description='Workspace:', placeholder='genkishi'), Text(value='log-reg-d…"
      ]
     },
     "metadata": {},
     "output_type": "display_data"
    },
    {
     "data": {
      "application/vnd.jupyter.widget-view+json": {
       "model_id": "0266f386f05843af9f07c5cf93a95263",
       "version_major": 2,
       "version_minor": 0
      },
      "text/plain": [
       "VBox(children=(Text(value='[[5.8, 2.8, 5.1, 2.4], [5.6, 2.8, 4.9, 2.0]]', description='Feature values:', place…"
      ]
     },
     "metadata": {},
     "output_type": "display_data"
    }
   ],
   "source": [
    "ca.lauch_widget_simple_prediction(default_features_values='[[5.8, 2.8, 5.1, 2.4], [5.6, 2.8, 4.9, 2.0]]')"
   ]
  },
  {
   "cell_type": "markdown",
   "metadata": {
    "pycharm": {
     "name": "#%% md\n"
    }
   },
   "source": [
    "avec des valeurs compatible avec le modèle, celà fonctionne :"
   ]
  },
  {
   "cell_type": "code",
   "execution_count": 5,
   "metadata": {
    "collapsed": false,
    "jupyter": {
     "outputs_hidden": false
    },
    "pycharm": {
     "name": "#%%\n"
    }
   },
   "outputs": [
    {
     "data": {
      "application/vnd.jupyter.widget-view+json": {
       "model_id": "692d2ea4c103498ca6686becd71c9e01",
       "version_major": 2,
       "version_minor": 0
      },
      "text/plain": [
       "VBox(children=(Text(value='genkishi', description='Workspace:', placeholder='genkishi'), Text(value='log-reg-d…"
      ]
     },
     "metadata": {},
     "output_type": "display_data"
    },
    {
     "data": {
      "application/vnd.jupyter.widget-view+json": {
       "model_id": "9c8ce5fe04224d2d9af22053b925f4fa",
       "version_major": 2,
       "version_minor": 0
      },
      "text/plain": [
       "VBox(children=(Text(value='[[40, 120], [10, 50]]', description='Feature values:', placeholder='[[40, 120], [10…"
      ]
     },
     "metadata": {},
     "output_type": "display_data"
    }
   ],
   "source": [
    "ca.lauch_widget_simple_prediction(default_features_values='[[40, 120], [10, 50]]')\n",
    "\n"
   ]
  },
  {
   "cell_type": "markdown",
   "metadata": {
    "pycharm": {
     "name": "#%% md\n"
    }
   },
   "source": [
    "**PREDICTION SUR LES DERNIERES DONNEES DE JEU**\n",
    "\n",
    "Pour effectuer des prédictions en directe, nous récupérons les dernières données que nous n'avions pas encore chargé\n",
    "depuis ce notebook.\n",
    "La cellule ci-dessous charge les dernières données et affiche la première nouvelle donnée récupérée.\n",
    "Si il n'y a pas de nouvelle données, un message l'indique.\n",
    "\n",
    "Si des données locale existent, le système les charge en mémoire et fait des requêtes d'événements à l'API à partir du\n",
    "dernier évènement local. On ne charge ainsi que les derniers match non téléchargés.\n",
    "\n",
    "LE TELECHARGEMENT DE NOUVELLES DONNEES PEUT ETRE LONG.\n",
    "SI LE MESSAGE 'last time : ...' S'AFFICHE,  PATIENTER LE TEMPS DU TELECHARGEMENT\n",
    "\n",
    "\n",
    "La cellule suivante permet de remettre le dernier game_time à 'forever' pour faire plusieurs test si il n'y a pas de\n",
    "nouvelles données à télécharger entre temps"
   ]
  },
  {
   "cell_type": "code",
   "execution_count": 6,
   "metadata": {
    "pycharm": {
     "name": "#%%\n"
    }
   },
   "outputs": [
    {
     "data": {
      "application/vnd.jupyter.widget-view+json": {
       "model_id": "835fa97a617e4c54850fbacee80e2582",
       "version_major": 2,
       "version_minor": 0
      },
      "text/plain": [
       "VBox(children=(Button(description='reset last_game_time', icon='microchip-ai', style=ButtonStyle(), tooltip='C…"
      ]
     },
     "metadata": {},
     "output_type": "display_data"
    }
   ],
   "source": [
    "ca.lauch_widget_reset_last_game_time()\n"
   ]
  },
  {
   "cell_type": "markdown",
   "metadata": {
    "pycharm": {
     "name": "#%% md\n"
    }
   },
   "source": [
    "__Prediction avec le modele log-reg-distance-angle__\n",
    "\n",
    "Chargez le modèle, charger les derniers évènements puis lancez une prédiction"
   ]
  },
  {
   "cell_type": "code",
   "execution_count": 3,
   "metadata": {
    "collapsed": false,
    "jupyter": {
     "outputs_hidden": false
    },
    "pycharm": {
     "name": "#%%\n"
    }
   },
   "outputs": [
    {
     "data": {
      "application/vnd.jupyter.widget-view+json": {
       "model_id": "cac7bbaeb3c9450fabf1037b7a08c710",
       "version_major": 2,
       "version_minor": 0
      },
      "text/plain": [
       "VBox(children=(Text(value='genkishi', description='Workspace:', placeholder='genkishi'), Text(value='log-reg-d…"
      ]
     },
     "metadata": {},
     "output_type": "display_data"
    },
    {
     "data": {
      "application/vnd.jupyter.widget-view+json": {
       "model_id": "5e2a2fa1afa344b093bd7d727e57eb9a",
       "version_major": 2,
       "version_minor": 0
      },
      "text/plain": [
       "VBox(children=(Button(description='Load data', icon='circle-arrow-down', style=ButtonStyle(), tooltip='Click m…"
      ]
     },
     "metadata": {},
     "output_type": "display_data"
    },
    {
     "data": {
      "application/vnd.jupyter.widget-view+json": {
       "model_id": "bad7f69e72d046d3a11cf6190a9d4659",
       "version_major": 2,
       "version_minor": 0
      },
      "text/plain": [
       "VBox(children=(Button(description='Predict', icon='microchip-ai', style=ButtonStyle(), tooltip='Click me'), Ou…"
      ]
     },
     "metadata": {},
     "output_type": "display_data"
    }
   ],
   "source": [
    "ca.lauch_widget_prediction_on_new_data()"
   ]
  },
  {
   "cell_type": "code",
   "execution_count": null,
   "metadata": {},
   "outputs": [],
   "source": []
  }
 ],
 "metadata": {
  "kernelspec": {
   "display_name": "Python 3 (ipykernel)",
   "language": "python",
   "name": "python3"
  },
  "language_info": {
   "codemirror_mode": {
    "name": "ipython",
    "version": 3
   },
   "file_extension": ".py",
   "mimetype": "text/x-python",
   "name": "python",
   "nbconvert_exporter": "python",
   "pygments_lexer": "ipython3",
   "version": "3.9.7"
  }
 },
 "nbformat": 4,
 "nbformat_minor": 4
}