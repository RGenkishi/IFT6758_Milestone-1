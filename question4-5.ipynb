{
 "cells": [
  {
   "cell_type": "code",
   "execution_count": 228,
   "id": "084ddd83-28fa-45ed-a865-7ea4c09deb6f",
   "metadata": {},
   "outputs": [],
   "source": [
    "import os\n",
    "import pandas as pd\n",
    "import numpy as np\n",
    "import matplotlib.pyplot as plt\n",
    "pd.set_option('display.max_columns', None)\n",
    "pd.set_option(\"max_rows\", None)\n",
    "import json"
   ]
  },
  {
   "cell_type": "code",
   "execution_count": 229,
   "id": "91e89eff-1824-4e18-a3db-b4e982fea6e7",
   "metadata": {},
   "outputs": [],
   "source": [
    " def game_event_to_panda_df(year):\n",
    "        path = '/Users/macbook/Documents/Cours Automne_2021/IFT 6758 Data Science/milstone_data/'\n",
    "        df = pd.read_json(path+str(year)+'02.json')        \n",
    "        elementToRetrive = ['matchId',\n",
    "                            'event',\n",
    "                            'period',\n",
    "                            'teamId',\n",
    "                            'teamName',\n",
    "                            'teamLink',\n",
    "                            'teamTriCode',\n",
    "                            'coordX',\n",
    "                            'coordY',\n",
    "                            'shooterName',\n",
    "                            'goalieName',\n",
    "                            'strength',\n",
    "                            'shotSecondaryType']\n",
    "\n",
    "        data = dict(zip(elementToRetrive, [[] for i in range(len(elementToRetrive))]))\n",
    "\n",
    "        for game,ID in zip(df['liveData'],df['gamePk']):\n",
    "            for play in game['plays']['allPlays']:\n",
    "                if play['result']['event'] in [\"Shot\", \"Goal\"]:\n",
    "                    data['matchId'].append(ID)\n",
    "                    data['event'].append(play['result']['event'])\n",
    "                    data['period'].append(play['about']['periodTime'])\n",
    "                    data['teamId'].append(play['team']['id'])\n",
    "                    data['teamName'].append(play['team']['name'])\n",
    "                    data['teamLink'].append(play['team']['link'])\n",
    "                    data['teamTriCode'].append(play['team']['triCode'])\n",
    "                    data['coordX'].append(play['coordinates']['x'] if 'x' in play['coordinates'].keys() else np.nan)\n",
    "                    data['coordY'].append(play['coordinates']['y'] if 'y' in play['coordinates'].keys() else np.nan)\n",
    "                    if len(play['players']) == 2:\n",
    "                        player0Type = play['players'][0]['playerType']\n",
    "                        data['shooterName' if player0Type == \"Shooter\" else 'goalieName'].append(play['players'][0]['player']['fullName'])\n",
    "                        data['goalieName' if player0Type == \"Shooter\" else 'shooterName'].append(play['players'][1]['player']['fullName'])\n",
    "                    else:\n",
    "                        data['shooterName'].append(play['players'][0]['player']['fullName'])\n",
    "                        data['goalieName'].append(play['players'][len(play['players'])-1]['player']['fullName'])\n",
    "                    if play['result']['event'] == \"Goal\":\n",
    "                        data['strength'].append(play['result']['strength']['name'])\n",
    "                    else:\n",
    "                        data['strength'].append(None)\n",
    "                    data['shotSecondaryType'].append(play['result']['secondaryType'] if 'secondaryType' in play['result'].keys() else np.nan)\n",
    "\n",
    "        for column in data.items():\n",
    "            column = pd.Series(column)\n",
    "\n",
    "        return pd.DataFrame(data)"
   ]
  },
  {
   "cell_type": "code",
   "execution_count": 230,
   "id": "211fa079-0ea7-4e09-ac5a-071d8f1d037a",
   "metadata": {},
   "outputs": [],
   "source": [
    "df = game_event_to_panda_df(2019)"
   ]
  },
  {
   "cell_type": "code",
   "execution_count": 231,
   "id": "b1ee14d2-998a-418c-8b3f-0b41e1185e10",
   "metadata": {},
   "outputs": [
    {
     "name": "stdout",
     "output_type": "stream",
     "text": [
      "-0.4434416365824308\n",
      "0.053098676293622145\n"
     ]
    }
   ],
   "source": [
    "print(df[df['event']==\"Goal\"]['coordX'].mean())\n",
    "print(df[df['event']==\"Goal\"]['coordY'].mean())"
   ]
  },
  {
   "cell_type": "code",
   "execution_count": 232,
   "id": "a4b9bf39-64fb-46ee-9e8a-50a87aae11fd",
   "metadata": {},
   "outputs": [
    {
     "name": "stdout",
     "output_type": "stream",
     "text": [
      "-0.5226107904480122\n",
      "-0.08446104347544907\n"
     ]
    }
   ],
   "source": [
    "print(df[df['event']==\"Shot\"]['coordX'].mean())\n",
    "print(df[df['event']==\"Shot\"]['coordY'].mean())"
   ]
  },
  {
   "cell_type": "code",
   "execution_count": 233,
   "id": "dc03b9e6-1380-4ae6-8646-7a36f905ed8a",
   "metadata": {},
   "outputs": [],
   "source": [
    "goal = df[df['event']==\"Goal\"]['shotSecondaryType'].value_counts().rename_axis('shottype').reset_index(name='counts')\n",
    "shot = df[df['event']==\"Shot\"]['shotSecondaryType'].value_counts().rename_axis('shottype').reset_index(name='counts')"
   ]
  },
  {
   "cell_type": "code",
   "execution_count": 234,
   "id": "bba2cf6e-59cf-4b07-bc61-97501ee90653",
   "metadata": {},
   "outputs": [
    {
     "data": {
      "image/png": "[encoded data removed]",
      "text/plain": [
       "<Figure size 720x432 with 1 Axes>"
      ]
     },
     "metadata": {
      "needs_background": "light"
     },
     "output_type": "display_data"
    }
   ],
   "source": [
    "plt.bar(shot['shottype'], shot['counts'], label=\"nombre de tire\", color='r')\n",
    "plt.bar(goal['shottype'],goal['counts'], label=\"nombre de but\", color='b')\n",
    "plt.plot()\n",
    "plt.xlabel(\"type de tire \")\n",
    "plt.ylabel(\"nombre de totale de tire et de but\")\n",
    "plt.title(\"histogramme montrant le nombre de tire et le nombre but pour la saison 2019\")\n",
    "plt.show()"
   ]
  },
  {
   "cell_type": "code",
   "execution_count": null,
   "id": "e55240be-5325-46ca-b721-22f12866b5fe",
   "metadata": {},
   "outputs": [],
   "source": []
  }
 ],
 "metadata": {
  "kernelspec": {
   "display_name": "Python 3 (ipykernel)",
   "language": "python",
   "name": "python3"
  },
  "language_info": {
   "codemirror_mode": {
    "name": "ipython",
    "version": 3
   },
   "file_extension": ".py",
   "mimetype": "text/x-python",
   "name": "python",
   "nbconvert_exporter": "python",
   "pygments_lexer": "ipython3",
   "version": "3.9.7"
  }
 },
 "nbformat": 4,
 "nbformat_minor": 5
}
