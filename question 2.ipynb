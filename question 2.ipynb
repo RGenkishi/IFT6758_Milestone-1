{
 "cells": [
  {
   "cell_type": "code",
   "execution_count": 34,
   "id": "becd20e8-1d34-405b-b722-686bea252552",
   "metadata": {},
   "outputs": [],
   "source": [
    "import requests\n",
    "import os\n",
    "import json\n",
    "path = '/Users/macbook/Documents/Cours Automne_2021/IFT 6758 Data Science/milstone_data/'\n",
    "season_period_start = 2016\n",
    "season_period_end = 2021"
   ]
  },
  {
   "cell_type": "code",
   "execution_count": 36,
   "id": "9396704f-047b-4dda-80c9-95a9cd6109ab",
   "metadata": {},
   "outputs": [],
   "source": [
    "\"\"\"fontion pour telecharger les donnees\"\"\"\n",
    "def get_data(period_start,period_end,path):\n",
    "    for date in range(period_start,period_end):\n",
    "        mach_num = 1\n",
    "        if(os.path.isfile(path+str(date)+'02.json')):\n",
    "            print('---------------Donnees de la periode Reguliere '+str(date)+' Disponible !!---------------------')\n",
    "            #with open(path+str(date)+'02.json','r') as file_re,open(path+str(date)+'03.json','r') as file_el:\n",
    "                #file_re.read()\n",
    "                #file_el.read()\n",
    "        else:\n",
    "            reg_game = []\n",
    "            print('------------------------------ saison Reguliere ----------------------------------')\n",
    "            #portion de code pour le telechargement  de donnees de la saison reguliere\n",
    "            req = requests.get('https://statsapi.web.nhl.com/api/v1/game/'+str(date)+'02'+str(mach_num).zfill(4)+'/feed/live')\n",
    "            while req.status_code == 200:\n",
    "                #pour avoir un fichier pour chaque mach ajouter str(mach_num).zfill(4) entre 02 et .json\n",
    "                reg_game.append(req.json())\n",
    "                mach_num += 1\n",
    "                req = requests.get('https://statsapi.web.nhl.com/api/v1/game/'+str(date)+'02'+str(mach_num).zfill(4)+'/feed/live')\n",
    "            with open(path+str(date)+'02.json','a') as file:\n",
    "                json.dump(reg_game,file)    \n",
    "            print('---------------Donnees de la periode '+str(date)+'pour la saison Reguliere Termine !!---------------------') \n",
    "            \n",
    "        if(os.path.isfile(path+str(date)+'03.json')):\n",
    "            print('---------------Donnees de la Serie Eliminatoire '+str(date)+' Disponible !!---------------------')\n",
    "        else:\n",
    "            print('------------------------------ Serie Eliminatoire ----------------------------------')\n",
    "            #portion de code pour le telechargement des donnees des series eliminatoires\n",
    "            playoffs = []\n",
    "            for first in range(1,10):\n",
    "                for seconde in range(1,10):\n",
    "                    for third in range(1,10):\n",
    "                        req = requests.get('https://statsapi.web.nhl.com/api/v1/game/'+str(date)+'030'+str(first)+str(seconde)+str(third)+'/feed/live')\n",
    "                        if req.status_code == 200:\n",
    "                            playoffs.append(req.json())\n",
    "            with open(path+str(date)+'03.json','a') as file:\n",
    "                json.dump(playoffs,file)\n",
    "                                \n",
    "            print('---------------Donnees de la periode '+str(date)+'pour la Serie Eliminatoire Termine !!---------------------')\n",
    "    print(\"-----------------TELECHARGEMENT DE TOUTES LES DONNEES TREMINEES !!!!!!!!--------------------\")\n",
    "        \n",
    "        \n",
    "            \n",
    "    \n",
    " "
   ]
  },
  {
   "cell_type": "code",
   "execution_count": 37,
   "id": "90ee28ba-7ec3-4ea5-82db-870a4acddc13",
   "metadata": {},
   "outputs": [
    {
     "name": "stdout",
     "output_type": "stream",
     "text": [
      "------------------------------ saison Reguliere ----------------------------------\n",
      "---------------Donnees de la periode 2016pour la saison Reguliere Termine !!---------------------\n",
      "------------------------------ Serie Eliminatoire ----------------------------------\n",
      "---------------Donnees de la periode 2016pour la Serie Eliminatoire Termine !!---------------------\n",
      "------------------------------ saison Reguliere ----------------------------------\n",
      "---------------Donnees de la periode 2017pour la saison Reguliere Termine !!---------------------\n",
      "------------------------------ Serie Eliminatoire ----------------------------------\n",
      "---------------Donnees de la periode 2017pour la Serie Eliminatoire Termine !!---------------------\n",
      "------------------------------ saison Reguliere ----------------------------------\n",
      "---------------Donnees de la periode 2018pour la saison Reguliere Termine !!---------------------\n",
      "------------------------------ Serie Eliminatoire ----------------------------------\n",
      "---------------Donnees de la periode 2018pour la Serie Eliminatoire Termine !!---------------------\n",
      "------------------------------ saison Reguliere ----------------------------------\n",
      "---------------Donnees de la periode 2019pour la saison Reguliere Termine !!---------------------\n",
      "------------------------------ Serie Eliminatoire ----------------------------------\n",
      "---------------Donnees de la periode 2019pour la Serie Eliminatoire Termine !!---------------------\n",
      "------------------------------ saison Reguliere ----------------------------------\n",
      "---------------Donnees de la periode 2020pour la saison Reguliere Termine !!---------------------\n",
      "------------------------------ Serie Eliminatoire ----------------------------------\n",
      "---------------Donnees de la periode 2020pour la Serie Eliminatoire Termine !!---------------------\n",
      "-----------------TELECHARGEMENT DE TOUTES LES DONNEES TREMINEES !!!!!!!!--------------------\n"
     ]
    }
   ],
   "source": [
    "get_data(season_period_start,season_period_end,path)"
   ]
  },
  {
   "cell_type": "code",
   "execution_count": null,
   "id": "ab0a0f6e-91ce-4501-b468-53904398fea6",
   "metadata": {},
   "outputs": [],
   "source": []
  }
 ],
 "metadata": {
  "kernelspec": {
   "display_name": "Python 3 (ipykernel)",
   "language": "python",
   "name": "python3"
  },
  "language_info": {
   "codemirror_mode": {
    "name": "ipython",
    "version": 3
   },
   "file_extension": ".py",
   "mimetype": "text/x-python",
   "name": "python",
   "nbconvert_exporter": "python",
   "pygments_lexer": "ipython3",
   "version": "3.9.7"
  }
 },
 "nbformat": 4,
 "nbformat_minor": 5
}
