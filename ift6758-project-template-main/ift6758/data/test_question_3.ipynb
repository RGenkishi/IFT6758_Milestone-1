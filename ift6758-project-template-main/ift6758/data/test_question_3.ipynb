{
 "cells": [
  {
   "cell_type": "code",
   "execution_count": 3,
   "metadata": {
    "pycharm": {
     "name": "#%%\n"
    }
   },
   "outputs": [
    {
     "data": {
      "text/plain": "interactive(children=(IntSlider(value=500, description='m', max=1000, step=100), IntSlider(value=200, descript…",
      "application/vnd.jupyter.widget-view+json": {
       "version_major": 2,
       "version_minor": 0,
       "model_id": "a0decaa1b16d4ec7a72a2cd469d97ed9"
      }
     },
     "metadata": {},
     "output_type": "display_data"
    }
   ],
   "source": [
    "import ipywidgets as widgets\n",
    "import matplotlib.pyplot as plt\n",
    "from PIL import Image\n",
    "from ift6758.data.question_4 import Tidyer\n",
    "import pandas as pd\n",
    "import numpy as np\n",
    "\n",
    "\n",
    "def f(m, b):\n",
    "    fig,ax = plt.subplots()\n",
    "    img = Image.open('../../figures/nhl_rink.png')\n",
    "    ax.imshow(img)\n",
    "\n",
    "    # Add scatter point on the image.\n",
    "    imgx,imgy = [m], [b]\n",
    "    ax.scatter(imgx,imgy,s=5,lw=5,facecolor=\"none\",edgecolor=\"magenta\")\n",
    "\n",
    "\n",
    "interactive_plot = widgets.interactive(f, m=(0, 1000, 100), b=(0, 400, 50))\n",
    "output = interactive_plot.children[-1]\n",
    "output.layout.height = '350px'\n",
    "interactive_plot"
   ]
  },
  {
   "cell_type": "code",
   "execution_count": 4,
   "metadata": {
    "pycharm": {
     "name": "#%%\n"
    }
   },
   "outputs": [
    {
     "ename": "AttributeError",
     "evalue": "'dict' object has no attribute 'info'",
     "output_type": "error",
     "traceback": [
      "\u001B[0;31m---------------------------------------------------------------------------\u001B[0m",
      "\u001B[0;31mAttributeError\u001B[0m                            Traceback (most recent call last)",
      "\u001B[0;32m/var/folders/tm/bhv8ggkx035bf4gpq9gwgqbc0000gn/T/ipykernel_10232/4131351324.py\u001B[0m in \u001B[0;36m<module>\u001B[0;34m\u001B[0m\n\u001B[1;32m      1\u001B[0m \u001B[0mtdf\u001B[0m \u001B[0;34m=\u001B[0m \u001B[0mTidyer\u001B[0m\u001B[0;34m(\u001B[0m\u001B[0;34m)\u001B[0m\u001B[0;34m\u001B[0m\u001B[0;34m\u001B[0m\u001B[0m\n\u001B[1;32m      2\u001B[0m \u001B[0mdf\u001B[0m \u001B[0;34m=\u001B[0m \u001B[0mtdf\u001B[0m\u001B[0;34m.\u001B[0m\u001B[0mgame_event_to_panda_df\u001B[0m\u001B[0;34m(\u001B[0m\u001B[0;36m2017\u001B[0m\u001B[0;34m)\u001B[0m\u001B[0;34m\u001B[0m\u001B[0;34m\u001B[0m\u001B[0m\n\u001B[0;32m----> 3\u001B[0;31m \u001B[0mprint\u001B[0m\u001B[0;34m(\u001B[0m\u001B[0mdf\u001B[0m\u001B[0;34m.\u001B[0m\u001B[0minfo\u001B[0m\u001B[0;34m(\u001B[0m\u001B[0;34m)\u001B[0m\u001B[0;34m)\u001B[0m\u001B[0;34m\u001B[0m\u001B[0;34m\u001B[0m\u001B[0m\n\u001B[0m\u001B[1;32m      4\u001B[0m \u001B[0;34m\u001B[0m\u001B[0m\n\u001B[1;32m      5\u001B[0m \u001B[0mdf\u001B[0m \u001B[0;34m=\u001B[0m \u001B[0mdf\u001B[0m\u001B[0;34m[\u001B[0m\u001B[0mdf\u001B[0m\u001B[0;34m[\u001B[0m\u001B[0;34m'dateYear'\u001B[0m\u001B[0;34m]\u001B[0m \u001B[0;34m==\u001B[0m \u001B[0;34m\"2017\"\u001B[0m\u001B[0;34m]\u001B[0m\u001B[0;34m\u001B[0m\u001B[0;34m\u001B[0m\u001B[0m\n",
      "\u001B[0;31mAttributeError\u001B[0m: 'dict' object has no attribute 'info'"
     ]
    }
   ],
   "source": [
    "tdf = Tidyer()\n",
    "df = tdf.game_event_to_panda_df(2017)\n",
    "print(df.info())\n",
    "\n",
    "df = df[df['dateYear'] == \"2017\"]\n",
    "df = df[df['dateMonth'] == \"10\"]\n",
    "df = df[df['dateDay'] == \"04\"]\n",
    "\n",
    "def f(m):\n",
    "    global df\n",
    "    fig,ax = plt.subplots()\n",
    "    img = Image.open('../../figures/nhl_rink.png')\n",
    "    ax.imshow(img, extent=[-100,100,-43,43])\n",
    "    # Add scatter point on the image.\n",
    "    imgx,imgy = [float(df.loc[m,\"coordX\"])], [float(df.loc[m,\"coordY\"])]\n",
    "    ax.scatter(imgx,imgy,s=5,lw=5,facecolor=\"none\",edgecolor=\"magenta\")\n",
    "    print(plt.xlim())\n",
    "    print(plt.ylim())\n",
    "    print(\"hi\")\n",
    "\n",
    "\n",
    "\n",
    "pd.set_option(\"max_rows\", None)\n",
    "pd.set_option(\"max_columns\", None)\n",
    "print(df.head(5))\n",
    "#print(df.info())\n",
    "#print(df.loc[0,\"period\"])\n",
    "\n",
    "\n",
    "interactive_plot = widgets.interactive(f, m=(0, len(df)-1))\n",
    "output = interactive_plot.children[-1]\n",
    "output.layout.height = '350px'\n",
    "interactive_plot"
   ]
  },
  {
   "cell_type": "code",
   "execution_count": null,
   "metadata": {},
   "outputs": [],
   "source": []
  },
  {
   "cell_type": "code",
   "execution_count": null,
   "metadata": {},
   "outputs": [],
   "source": []
  }
 ],
 "metadata": {
  "kernelspec": {
   "display_name": "ift6758-conda-env",
   "language": "python",
   "name": "ift6758-conda-env"
  },
  "language_info": {
   "codemirror_mode": {
    "name": "ipython",
    "version": 3
   },
   "file_extension": ".py",
   "mimetype": "text/x-python",
   "name": "python",
   "nbconvert_exporter": "python",
   "pygments_lexer": "ipython3",
   "version": "3.9.7"
  }
 },
 "nbformat": 4,
 "nbformat_minor": 1
}