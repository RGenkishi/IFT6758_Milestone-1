{
 "cells": [
  {
   "cell_type": "code",
   "execution_count": 9,
   "metadata": {
    "pycharm": {
     "name": "#%%\n"
    }
   },
   "outputs": [
    {
     "data": {
      "application/vnd.jupyter.widget-view+json": {
       "model_id": "73a76507d343424d83048ca830ab5001",
       "version_major": 2,
       "version_minor": 0
      },
      "text/plain": [
       "interactive(children=(IntSlider(value=500, description='m', max=1000, step=100), IntSlider(value=200, descript…"
      ]
     },
     "metadata": {},
     "output_type": "display_data"
    }
   ],
   "source": [
    "import ipywidgets as widgets\n",
    "import matplotlib.pyplot as plt\n",
    "from PIL import Image\n",
    "from ift6758.data.question_4 import Tidyfier\n",
    "import pandas as pd\n",
    "import numpy as np\n",
    "from IPython.display import display\n",
    "\n",
    "\n",
    "def f(m, b):\n",
    "    fig,ax = plt.subplots()\n",
    "    img = Image.open('../../figures/nhl_rink.png')\n",
    "    ax.imshow(img)\n",
    "\n",
    "    # Add scatter point on the image.\n",
    "    imgx,imgy = [m], [b]\n",
    "    ax.scatter(imgx,imgy,s=5,lw=5,facecolor=\"none\",edgecolor=\"magenta\")\n",
    "\n",
    "\n",
    "interactive_plot = widgets.interactive(f, m=(0, 1000, 100), b=(0, 400, 50))\n",
    "output = interactive_plot.children[-1]\n",
    "output.layout.height = '350px'\n",
    "interactive_plot"
   ]
  },
  {
   "cell_type": "code",
   "execution_count": 18,
   "metadata": {
    "pycharm": {
     "name": "#%%\n"
    }
   },
   "outputs": [
    {
     "name": "stdout",
     "output_type": "stream",
     "text": [
      "<class 'pandas.core.frame.DataFrame'>\n",
      "RangeIndex: 81873 entries, 0 to 81872\n",
      "Data columns (total 15 columns):\n",
      " #   Column             Non-Null Count  Dtype  \n",
      "---  ------             --------------  -----  \n",
      " 0   matchId            81873 non-null  object \n",
      " 1   dateYear           81873 non-null  object \n",
      " 2   dateMonth          81873 non-null  object \n",
      " 3   dateDay            81873 non-null  object \n",
      " 4   event              81873 non-null  object \n",
      " 5   period             81873 non-null  object \n",
      " 6   teamId             81873 non-null  int64  \n",
      " 7   teamName           81873 non-null  object \n",
      " 8   teamLink           81873 non-null  object \n",
      " 9   teamTriCode        81873 non-null  object \n",
      " 10  coordX             81865 non-null  float64\n",
      " 11  coordY             81865 non-null  float64\n",
      " 12  shooterName        74961 non-null  object \n",
      " 13  goalieName         74961 non-null  object \n",
      " 14  shotSecondaryType  81870 non-null  object \n",
      "dtypes: float64(2), int64(1), object(12)\n",
      "memory usage: 9.4+ MB\n",
      "None\n",
      "             matchId dateYear dateMonth dateDay event period  teamId  \\\n",
      "0  regular2017020001     2017        10      04  Shot  00:38      52   \n",
      "1  regular2017020001     2017        10      04  Shot  00:49      52   \n",
      "2  regular2017020001     2017        10      04  Shot  01:03      52   \n",
      "3  regular2017020001     2017        10      04  Shot  01:46      10   \n",
      "4  regular2017020001     2017        10      04  Shot  03:42      52   \n",
      "\n",
      "              teamName          teamLink teamTriCode  coordX  coordY  \\\n",
      "0        Winnipeg Jets  /api/v1/teams/52         WPG   -36.0   -28.0   \n",
      "1        Winnipeg Jets  /api/v1/teams/52         WPG   -75.0     1.0   \n",
      "2        Winnipeg Jets  /api/v1/teams/52         WPG   -73.0    10.0   \n",
      "3  Toronto Maple Leafs  /api/v1/teams/10         TOR    80.0    -3.0   \n",
      "4        Winnipeg Jets  /api/v1/teams/52         WPG   -44.0   -21.0   \n",
      "\n",
      "      shooterName         goalieName shotSecondaryType  \n",
      "0  Josh Morrissey  Frederik Andersen        Wrist Shot  \n",
      "1  Shawn Matthias  Frederik Andersen        Wrist Shot  \n",
      "2    Bryan Little  Frederik Andersen          Backhand  \n",
      "3       Eric Fehr        Steve Mason        Wrist Shot  \n",
      "4    Patrik Laine  Frederik Andersen         Snap Shot  \n"
     ]
    },
    {
     "data": {
      "application/vnd.jupyter.widget-view+json": {
       "model_id": "4fe1dcbb8cf4471683fc65e57d054b28",
       "version_major": 2,
       "version_minor": 0
      },
      "text/plain": [
       "interactive(children=(Dropdown(description='m', options=('regular2017020001', 'regular2017020002', 'regular201…"
      ]
     },
     "metadata": {},
     "output_type": "display_data"
    }
   ],
   "source": [
    "tdf = Tidyfier()\n",
    "df = tdf.game_event_to_panda_df(2017)\n",
    "matchIdList = df['matchId'].drop_duplicates()\n",
    "print(df.info())\n",
    "subDf = df\n",
    "\n",
    "def drawIceRink(i):\n",
    "    global df\n",
    "    fig,ax = plt.subplots()\n",
    "    img = Image.open('../../figures/nhl_rink.png')\n",
    "    ax.imshow(img, extent=[-100,100,-43,43])\n",
    "    # Add scatter point on the image.\n",
    "    imgx,imgy = [float(subDf.loc[i,\"coordX\"])], [float(subDf.loc[i,\"coordY\"])]\n",
    "    ax.scatter(imgx,imgy,s=5,lw=5,facecolor=\"none\",edgecolor=\"magenta\")\n",
    "    print(plt.xlim())\n",
    "    print(plt.ylim())\n",
    "\n",
    "\n",
    "\n",
    "pd.set_option(\"max_rows\", None)\n",
    "pd.set_option(\"max_columns\", None)\n",
    "print(df.head(5))\n",
    "#print(df.info())\n",
    "#print(df.loc[0,\"period\"])\n",
    "\n",
    "def selectMatch(m):\n",
    "    subDf = df[df[\"matchId\"]== m]\n",
    "    lenDf = len(subDf)\n",
    "    w = widgets.IntSlider(value=0, min=0, max=lenDf-1)\n",
    "    interactive_plot = widgets.interactive(drawIceRink, i=w)\n",
    "    #interactive_plot\n",
    "    display(interactive_plot)\n",
    "\n",
    "sliderSelect = widgets.interactive(selectMatch, m=matchIdList)\n",
    "#interactive_plot = widgets.interactive(f, m=matchIdList, i=(0, lenDf-1))\n",
    "output = interactive_plot.children[-1]\n",
    "output.layout.height = '350px'\n",
    "#interactive_plot\n",
    "sliderSelect"
   ]
  },
  {
   "cell_type": "code",
   "execution_count": 10,
   "metadata": {},
   "outputs": [],
   "source": []
  },
  {
   "cell_type": "code",
   "execution_count": 10,
   "metadata": {},
   "outputs": [],
   "source": []
  }
 ],
 "metadata": {
  "kernelspec": {
   "display_name": "ift6758-conda-env",
   "language": "python",
   "name": "ift6758-conda-env"
  },
  "language_info": {
   "codemirror_mode": {
    "name": "ipython",
    "version": 3
   },
   "file_extension": ".py",
   "mimetype": "text/x-python",
   "name": "python",
   "nbconvert_exporter": "python",
   "pygments_lexer": "ipython3",
   "version": "3.9.7"
  }
 },
 "nbformat": 4,
 "nbformat_minor": 1
}