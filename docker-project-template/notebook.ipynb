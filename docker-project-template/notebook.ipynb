{
 "cells": [
  {
   "cell_type": "code",
   "execution_count": 1,
   "metadata": {},
   "outputs": [],
   "source": [
    "from ift6758.ift6758.client.clientApp import ClientApp\n",
    "\n",
    "ca = ClientApp(ip=\"serving\", port=8080)"
   ]
  },
  {
   "cell_type": "markdown",
   "metadata": {},
   "source": [
    "Récupération des nouvelles données pour prédiction\n",
    "\n",
    "Les nouvelles données sont bien récupérée"
   ]
  },
  {
   "cell_type": "code",
   "execution_count": 2,
   "metadata": {
    "collapsed": false,
    "jupyter": {
     "outputs_hidden": false
    },
    "pycharm": {
     "name": "#%%\n"
    }
   },
   "outputs": [
    {
     "name": "stdout",
     "output_type": "stream",
     "text": [
      "<Response [200]>\n",
      "status success\n",
      "New data since 2021-12-22T05:39:38Z successfully downloaded\n",
      "[0.04850444624090541, 0.6161616161616162, 0.11904761904761907, 0.6671678698807211, 0.3989195443652195, nan, nan, nan, nan, nan, nan, 1.0, 0.0, 0.0, 0.0, 0.0, 0.0, 1.0, 0.0, 0.0, 0.0, 0.0, 0.0, 0.0, 1.0, 0.0, 0.0, 1.0, 0.0, 1.0, 0.0]\n"
     ]
    }
   ],
   "source": [
    "new_data = ca.get_new_data_for_prediction()\n",
    "print(new_data[0])"
   ]
  },
  {
   "cell_type": "markdown",
   "metadata": {},
   "source": [
    "Widget permettant d'effectuer une prédiction.\n",
    "\n",
    "Il est possible d'utiliser le modele log-reg-distance-angle mais\n",
    "pour pouvoir faire une prédiction, il faudrait ne récupérer que les champs angle et distance depuis les données récupérée\n",
    "\n",
    "Beaucoup de problème avec Docker et les import de modules python ont retardé notre travail.\n",
    "Pour mieux faire, il faudrait réexporter nos modèles en précisant les champs à prendre en compte pour une prédiction.\n",
    "la méthode predict() ne garderai alors que les champs précisé dans le fichier .joblib et effectuerait une prédiction sur ces champs avec le modèle.\n",
    "\n",
    "Par manque de temps, nous vous proposons ici de tester une prédiction avec le modèle iris-model sur deux flurs différentes.\n",
    "Les valeurs retournée correspondent au numéro de la classe de la fleur."
   ]
  },
  {
   "cell_type": "code",
   "execution_count": 3,
   "metadata": {
    "pycharm": {
     "name": "#%%\n"
    }
   },
   "outputs": [
    {
     "data": {
      "application/vnd.jupyter.widget-view+json": {
       "model_id": "70f10ede59254ba3a1335bba6290bfa9",
       "version_major": 2,
       "version_minor": 0
      },
      "text/plain": [
       "VBox(children=(Text(value='genkishi', description='Workspace:', placeholder='genkishi'), Text(value='iris-mode…"
      ]
     },
     "metadata": {},
     "output_type": "display_data"
    },
    {
     "data": {
      "application/vnd.jupyter.widget-view+json": {
       "model_id": "572db2882cf1433fb5e686f3f5e3c837",
       "version_major": 2,
       "version_minor": 0
      },
      "text/plain": [
       "VBox(children=(Text(value='', description='Feature values:', placeholder='[[5.8, 2.8, 5.1, 2.4], [5.6, 2.8, 4.…"
      ]
     },
     "metadata": {},
     "output_type": "display_data"
    }
   ],
   "source": [
    "ca.prediction_widget()"
   ]
  },
  {
   "cell_type": "markdown",
   "metadata": {
    "pycharm": {
     "name": "#%% md\n"
    }
   },
   "source": [
    "Remarque :\n",
    "Vous pouver remplacer le champ modèle par \"log-reg-distance-angle\"\n",
    "\n",
    "et features values par [[40, 120], [10, 50]] par exemple\n",
    "pour tester le modèle sur des angles et distance fictive"
   ]
  },
  {
   "cell_type": "code",
   "execution_count": 2,
   "metadata": {
    "collapsed": false,
    "jupyter": {
     "outputs_hidden": false
    },
    "pycharm": {
     "name": "#%%\n"
    }
   },
   "outputs": [
    {
     "data": {
      "application/vnd.jupyter.widget-view+json": {
       "model_id": "3ede1dbcac1f44aeabe703f4239eee7b",
       "version_major": 2,
       "version_minor": 0
      },
      "text/plain": [
       "VBox(children=(Text(value='genkishi', description='Workspace:', placeholder='genkishi'), Text(value='iris-mode…"
      ]
     },
     "metadata": {},
     "output_type": "display_data"
    },
    {
     "data": {
      "application/vnd.jupyter.widget-view+json": {
       "model_id": "17dd522ae7444f4f8719b065f4e98376",
       "version_major": 2,
       "version_minor": 0
      },
      "text/plain": [
       "VBox(children=(Text(value='', description='Feature values:', placeholder='[[5.8, 2.8, 5.1, 2.4], [5.6, 2.8, 4.…"
      ]
     },
     "metadata": {},
     "output_type": "display_data"
    }
   ],
   "source": [
    "ca.prediction_widget()"
   ]
  },
  {
   "cell_type": "code",
   "execution_count": null,
   "metadata": {},
   "outputs": [],
   "source": []
  }
 ],
 "metadata": {
  "kernelspec": {
   "display_name": "Python 3 (ipykernel)",
   "language": "python",
   "name": "python3"
  },
  "language_info": {
   "codemirror_mode": {
    "name": "ipython",
    "version": 3
   },
   "file_extension": ".py",
   "mimetype": "text/x-python",
   "name": "python",
   "nbconvert_exporter": "python",
   "pygments_lexer": "ipython3",
   "version": "3.9.7"
  }
 },
 "nbformat": 4,
 "nbformat_minor": 4
}