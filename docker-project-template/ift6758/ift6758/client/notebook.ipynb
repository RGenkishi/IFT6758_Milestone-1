{
 "cells": [
  {
   "cell_type": "code",
   "execution_count": 1,
   "metadata": {},
   "outputs": [
    {
     "ename": "ModuleNotFoundError",
     "evalue": "No module named 'ift6758.ift6758'",
     "output_type": "error",
     "traceback": [
      "\u001B[0;31m---------------------------------------------------------------------------\u001B[0m",
      "\u001B[0;31mModuleNotFoundError\u001B[0m                       Traceback (most recent call last)",
      "\u001B[0;32m/var/folders/tm/bhv8ggkx035bf4gpq9gwgqbc0000gn/T/ipykernel_1616/1989726394.py\u001B[0m in \u001B[0;36m<module>\u001B[0;34m\u001B[0m\n\u001B[0;32m----> 1\u001B[0;31m \u001B[0;32mfrom\u001B[0m \u001B[0mift6758\u001B[0m\u001B[0;34m.\u001B[0m\u001B[0mift6758\u001B[0m\u001B[0;34m.\u001B[0m\u001B[0mclient\u001B[0m\u001B[0;34m.\u001B[0m\u001B[0mclientApp\u001B[0m \u001B[0;32mimport\u001B[0m \u001B[0mClientApp\u001B[0m\u001B[0;34m\u001B[0m\u001B[0;34m\u001B[0m\u001B[0m\n\u001B[0m\u001B[1;32m      2\u001B[0m \u001B[0;34m\u001B[0m\u001B[0m\n\u001B[1;32m      3\u001B[0m \u001B[0mca\u001B[0m \u001B[0;34m=\u001B[0m \u001B[0mClientApp\u001B[0m\u001B[0;34m(\u001B[0m\u001B[0;34m)\u001B[0m\u001B[0;34m\u001B[0m\u001B[0;34m\u001B[0m\u001B[0m\n\u001B[1;32m      4\u001B[0m \u001B[0mca\u001B[0m\u001B[0;34m.\u001B[0m\u001B[0mlauchWidget\u001B[0m\u001B[0;34m(\u001B[0m\u001B[0;34m)\u001B[0m\u001B[0;34m\u001B[0m\u001B[0;34m\u001B[0m\u001B[0m\n\u001B[1;32m      5\u001B[0m \u001B[0;34m\u001B[0m\u001B[0m\n",
      "\u001B[0;31mModuleNotFoundError\u001B[0m: No module named 'ift6758.ift6758'"
     ]
    }
   ],
   "source": [
    "from clientApp import ClientApp\n",
    "\n",
    "ca = ClientApp(ip=\"serving\", port=8080)\n",
    "ca.lauchWidget()"
   ]
  },
  {
   "cell_type": "code",
   "execution_count": 2,
   "metadata": {},
   "outputs": [
    {
     "name": "stdout",
     "output_type": "stream",
     "text": [
      "{'message': 'The (iris-model) model has been successfully loaded', 'status': 'success'}\n",
      "\n",
      "   0\n",
      "0  2\n",
      "1  1\n",
      "\n",
      "0 : {'file': '/code/app.py', 'function': 'before_first_request', 'level': 'INFO', 'message': 'logger initialized', 'name': 'root', 'time': '2021-12-21 07:23:13,843', 'transmission': None}\n",
      "1 : {'file': '/code/app.py', 'function': 'download_registry_model', 'level': 'INFO', 'message': 'Request received : download_registry_model', 'name': 'root', 'time': '2021-12-21 07:23:14,424', 'transmission': {'model_name': 'iris-model', 'workspace': 'genkishi'}}\n",
      "2 : {'file': '/code/ift6758/ift6758/models/CometModelManager.py', 'function': 'download_model', 'level': 'INFO', 'message': 'Attempting to download the non local (iris-model) model ', 'name': 'root', 'time': '2021-12-21 07:23:14,430', 'transmission': None}\n",
      "3 : {'file': '/code/app.py', 'function': 'download_registry_model', 'level': 'INFO', 'message': 'Model (iris-model) successfully loaded', 'name': 'root', 'time': '2021-12-21 07:23:14,673', 'transmission': {'message': 'The (iris-model) model has been successfully loaded', 'status': 'success'}}\n",
      "4 : {'file': '/code/app.py', 'function': 'predict', 'level': 'INFO', 'message': 'Request received : predict', 'name': 'root', 'time': '2021-12-21 07:23:14,683', 'transmission': {'features': [[5.8, 2.8, 5.1, 2.4], [5.6, 2.8, 4.9, 2.0]]}}\n",
      "5 : {'file': '/code/app.py', 'function': 'predict', 'level': 'INFO', 'message': 'Prediction sent to client', 'name': 'root', 'time': '2021-12-21 07:23:14,687', 'transmission': {'predictions': [2, 1], 'status': 'success'}}\n",
      "6 : {'file': '/code/app.py', 'function': 'logs', 'level': 'INFO', 'message': 'Request received : logs', 'name': 'root', 'time': '2021-12-21 07:23:14,697', 'transmission': None}\n",
      "7 : {'file': '/code/app.py', 'function': 'logs', 'level': 'INFO', 'message': 'sending logs to client', 'name': 'root', 'time': '2021-12-21 07:23:14,698', 'transmission': None}\n",
      "8 : {'file': '/code/app.py', 'function': 'download_registry_model', 'level': 'INFO', 'message': 'Request received : download_registry_model', 'name': 'root', 'time': '2021-12-21 07:39:19,035', 'transmission': {'model_name': 'iris-model', 'workspace': 'genkishi'}}\n",
      "9 : {'file': '/code/ift6758/ift6758/models/CometModelManager.py', 'function': 'download_model', 'level': 'INFO', 'message': 'model (iris-model) already downloaded', 'name': 'root', 'time': '2021-12-21 07:39:19,039', 'transmission': None}\n",
      "10 : {'file': '/code/app.py', 'function': 'download_registry_model', 'level': 'INFO', 'message': 'Model (iris-model) successfully loaded', 'name': 'root', 'time': '2021-12-21 07:39:19,048', 'transmission': {'message': 'The (iris-model) model has been successfully loaded', 'status': 'success'}}\n",
      "11 : {'file': '/code/app.py', 'function': 'predict', 'level': 'INFO', 'message': 'Request received : predict', 'name': 'root', 'time': '2021-12-21 07:39:19,058', 'transmission': {'features': [[5.8, 2.8, 5.1, 2.4], [5.6, 2.8, 4.9, 2.0]]}}\n",
      "12 : {'file': '/code/app.py', 'function': 'predict', 'level': 'INFO', 'message': 'Prediction sent to client', 'name': 'root', 'time': '2021-12-21 07:39:19,070', 'transmission': {'predictions': [2, 1], 'status': 'success'}}\n",
      "13 : {'file': '/code/app.py', 'function': 'logs', 'level': 'INFO', 'message': 'Request received : logs', 'name': 'root', 'time': '2021-12-21 07:39:19,079', 'transmission': None}\n",
      "14 : {'file': '/code/app.py', 'function': 'logs', 'level': 'INFO', 'message': 'sending logs to client', 'name': 'root', 'time': '2021-12-21 07:39:19,080', 'transmission': None}\n"
     ]
    },
    {
     "data": {
      "text/plain": [
       "{0: {'file': '/code/app.py',\n",
       "  'function': 'before_first_request',\n",
       "  'level': 'INFO',\n",
       "  'message': 'logger initialized',\n",
       "  'name': 'root',\n",
       "  'time': '2021-12-21 07:23:13,843',\n",
       "  'transmission': None},\n",
       " 1: {'file': '/code/app.py',\n",
       "  'function': 'download_registry_model',\n",
       "  'level': 'INFO',\n",
       "  'message': 'Request received : download_registry_model',\n",
       "  'name': 'root',\n",
       "  'time': '2021-12-21 07:23:14,424',\n",
       "  'transmission': {'model_name': 'iris-model', 'workspace': 'genkishi'}},\n",
       " 2: {'file': '/code/ift6758/ift6758/models/CometModelManager.py',\n",
       "  'function': 'download_model',\n",
       "  'level': 'INFO',\n",
       "  'message': 'Attempting to download the non local (iris-model) model ',\n",
       "  'name': 'root',\n",
       "  'time': '2021-12-21 07:23:14,430',\n",
       "  'transmission': None},\n",
       " 3: {'file': '/code/app.py',\n",
       "  'function': 'download_registry_model',\n",
       "  'level': 'INFO',\n",
       "  'message': 'Model (iris-model) successfully loaded',\n",
       "  'name': 'root',\n",
       "  'time': '2021-12-21 07:23:14,673',\n",
       "  'transmission': {'message': 'The (iris-model) model has been successfully loaded',\n",
       "   'status': 'success'}},\n",
       " 4: {'file': '/code/app.py',\n",
       "  'function': 'predict',\n",
       "  'level': 'INFO',\n",
       "  'message': 'Request received : predict',\n",
       "  'name': 'root',\n",
       "  'time': '2021-12-21 07:23:14,683',\n",
       "  'transmission': {'features': [[5.8, 2.8, 5.1, 2.4], [5.6, 2.8, 4.9, 2.0]]}},\n",
       " 5: {'file': '/code/app.py',\n",
       "  'function': 'predict',\n",
       "  'level': 'INFO',\n",
       "  'message': 'Prediction sent to client',\n",
       "  'name': 'root',\n",
       "  'time': '2021-12-21 07:23:14,687',\n",
       "  'transmission': {'predictions': [2, 1], 'status': 'success'}},\n",
       " 6: {'file': '/code/app.py',\n",
       "  'function': 'logs',\n",
       "  'level': 'INFO',\n",
       "  'message': 'Request received : logs',\n",
       "  'name': 'root',\n",
       "  'time': '2021-12-21 07:23:14,697',\n",
       "  'transmission': None},\n",
       " 7: {'file': '/code/app.py',\n",
       "  'function': 'logs',\n",
       "  'level': 'INFO',\n",
       "  'message': 'sending logs to client',\n",
       "  'name': 'root',\n",
       "  'time': '2021-12-21 07:23:14,698',\n",
       "  'transmission': None},\n",
       " 8: {'file': '/code/app.py',\n",
       "  'function': 'download_registry_model',\n",
       "  'level': 'INFO',\n",
       "  'message': 'Request received : download_registry_model',\n",
       "  'name': 'root',\n",
       "  'time': '2021-12-21 07:39:19,035',\n",
       "  'transmission': {'model_name': 'iris-model', 'workspace': 'genkishi'}},\n",
       " 9: {'file': '/code/ift6758/ift6758/models/CometModelManager.py',\n",
       "  'function': 'download_model',\n",
       "  'level': 'INFO',\n",
       "  'message': 'model (iris-model) already downloaded',\n",
       "  'name': 'root',\n",
       "  'time': '2021-12-21 07:39:19,039',\n",
       "  'transmission': None},\n",
       " 10: {'file': '/code/app.py',\n",
       "  'function': 'download_registry_model',\n",
       "  'level': 'INFO',\n",
       "  'message': 'Model (iris-model) successfully loaded',\n",
       "  'name': 'root',\n",
       "  'time': '2021-12-21 07:39:19,048',\n",
       "  'transmission': {'message': 'The (iris-model) model has been successfully loaded',\n",
       "   'status': 'success'}},\n",
       " 11: {'file': '/code/app.py',\n",
       "  'function': 'predict',\n",
       "  'level': 'INFO',\n",
       "  'message': 'Request received : predict',\n",
       "  'name': 'root',\n",
       "  'time': '2021-12-21 07:39:19,058',\n",
       "  'transmission': {'features': [[5.8, 2.8, 5.1, 2.4], [5.6, 2.8, 4.9, 2.0]]}},\n",
       " 12: {'file': '/code/app.py',\n",
       "  'function': 'predict',\n",
       "  'level': 'INFO',\n",
       "  'message': 'Prediction sent to client',\n",
       "  'name': 'root',\n",
       "  'time': '2021-12-21 07:39:19,070',\n",
       "  'transmission': {'predictions': [2, 1], 'status': 'success'}},\n",
       " 13: {'file': '/code/app.py',\n",
       "  'function': 'logs',\n",
       "  'level': 'INFO',\n",
       "  'message': 'Request received : logs',\n",
       "  'name': 'root',\n",
       "  'time': '2021-12-21 07:39:19,079',\n",
       "  'transmission': None},\n",
       " 14: {'file': '/code/app.py',\n",
       "  'function': 'logs',\n",
       "  'level': 'INFO',\n",
       "  'message': 'sending logs to client',\n",
       "  'name': 'root',\n",
       "  'time': '2021-12-21 07:39:19,080',\n",
       "  'transmission': None}}"
      ]
     },
     "execution_count": 2,
     "metadata": {},
     "output_type": "execute_result"
    }
   ],
   "source": [
    "from clientApp import ClientApp\n",
    "\n",
    "ca = ClientApp(ip=\"serving\", port=8080)\n",
    "ca.prediction_widget()"
   ]
  },
  {
   "cell_type": "code",
   "execution_count": null,
   "outputs": [],
   "source": [
    "from ift6758.client.serving_client import ServingClient\n",
    "import pandas as pd\n",
    "\n",
    "sc = ServingClient()\n",
    "\n",
    "sc.download_registry_model(workspace=\"genkishi\", model=\"iris-model\")\n",
    "print()\n",
    "\n",
    "sc.predict(pd.DataFrame([[5.8, 2.8, 5.1, 2.4],\n",
    "                         [5.6, 2.8, 4.9, 2.0]]))\n",
    "print()\n",
    "\n",
    "sc.logs()"
   ],
   "metadata": {
    "collapsed": false,
    "pycharm": {
     "name": "#%%\n"
    }
   }
  }
 ],
 "metadata": {
  "kernelspec": {
   "display_name": "Python 3 (ipykernel)",
   "language": "python",
   "name": "python3"
  },
  "language_info": {
   "codemirror_mode": {
    "name": "ipython",
    "version": 3
   },
   "file_extension": ".py",
   "mimetype": "text/x-python",
   "name": "python",
   "nbconvert_exporter": "python",
   "pygments_lexer": "ipython3",
   "version": "3.9.7"
  }
 },
 "nbformat": 4,
 "nbformat_minor": 1
}