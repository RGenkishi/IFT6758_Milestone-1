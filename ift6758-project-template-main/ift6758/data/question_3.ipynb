{
 "cells": [
  {
   "cell_type": "code",
   "execution_count": 70,
   "metadata": {
    "pycharm": {
     "name": "#%%\n"
    }
   },
   "outputs": [
    {
     "data": {
      "application/vnd.jupyter.widget-view+json": {
       "model_id": "a67f486ae1164dc5ade8f35d5af543aa",
       "version_major": 2,
       "version_minor": 0
      },
      "text/plain": [
       "interactive(children=(IntSlider(value=500, description='m', max=1000, step=100), IntSlider(value=200, descript…"
      ]
     },
     "metadata": {},
     "output_type": "display_data"
    }
   ],
   "source": [
    "import ipywidgets as widgets\n",
    "import matplotlib.pyplot as plt\n",
    "from PIL import Image\n",
    "from ift6758.data.question_4 import Tidyfier\n",
    "import pandas as pd\n",
    "import numpy as np\n",
    "from IPython.display import display\n",
    "import time\n",
    "\n",
    "\n",
    "def f(m, b):\n",
    "    fig,ax = plt.subplots()\n",
    "    img = Image.open('../../figures/nhl_rink.png')\n",
    "    ax.imshow(img)\n",
    "\n",
    "    # Add scatter point on the image.\n",
    "    imgx,imgy = [m], [b]\n",
    "    ax.scatter(imgx,imgy,s=5,lw=5,facecolor=\"none\",edgecolor=\"magenta\")\n",
    "\n",
    "\n",
    "interactive_plot = widgets.interactive(f, m=(0, 1000, 100), b=(0, 400, 50))\n",
    "output = interactive_plot.children[-1]\n",
    "output.layout.height = '350px'\n",
    "interactive_plot"
   ]
  },
  {
   "cell_type": "code",
   "execution_count": 71,
   "metadata": {
    "pycharm": {
     "name": "#%%\n"
    }
   },
   "outputs": [
    {
     "data": {
      "application/vnd.jupyter.widget-view+json": {
       "model_id": "097865f82e8f4cac80a6874b21440455",
       "version_major": 2,
       "version_minor": 0
      },
      "text/plain": [
       "interactive(children=(Dropdown(description='Year:', index=100, options=(1917, 1918, 1919, 1920, 1921, 1922, 19…"
      ]
     },
     "metadata": {},
     "output_type": "display_data"
    },
    {
     "name": "stdout",
     "output_type": "stream",
     "text": [
      "end\n"
     ]
    }
   ],
   "source": [
    "df = None\n",
    "subDf = []\n",
    "\n",
    "def drawIceRink(i):\n",
    "    fig,ax = plt.subplots()\n",
    "    img = Image.open('../../figures/nhl_rink.png')\n",
    "    ax.imshow(img, extent=[-100,100,-43,43])\n",
    "    # Add scatter point on the image.\n",
    "    imgx,imgy = [float(subDf.iloc[int(i)][\"coordX\"])], [float(subDf.iloc[int(i)][\"coordY\"])]\n",
    "    ax.scatter(imgx,imgy,s=5,lw=5,facecolor=\"none\",edgecolor=\"magenta\")\n",
    "    print(plt.xlim())\n",
    "    print(plt.ylim())\n",
    "\n",
    "\n",
    "def selectMatch(m):\n",
    "    global df, subDf\n",
    "    print(len(subDf))\n",
    "    subDf = df[df[\"matchId\"]== m]\n",
    "    #print(subDf)\n",
    "    lenDf = len(subDf)\n",
    "    w = widgets.IntSlider(value=0, min=0, max=lenDf-1, description='event:', continuous_update=False)\n",
    "    interactive_IceRinkPlot = widgets.interactive(drawIceRink, i=w)\n",
    "    display(interactive_IceRinkPlot)\n",
    "\n",
    "\n",
    "def selectYear(y):\n",
    "    global df\n",
    "    tdf = Tidyfier()\n",
    "    df = tdf.game_event_to_panda_df(y)\n",
    "    matchIdList = df['matchId'].drop_duplicates()\n",
    "    sliderSelectMatch = widgets.interactive(selectMatch, m=matchIdList)\n",
    "    display(sliderSelectMatch)\n",
    "\n",
    "y = widgets.Dropdown(options=range(1917, 2021), value=2017, description='Year:', disabled=False)\n",
    "dropDownYearSelect = widgets.interactive(selectYear, y=y)\n",
    "\n",
    "output = interactive_plot.children[-1]\n",
    "output.layout.height = '350px'\n",
    "display(dropDownYearSelect)\n",
    "\n",
    "print(\"end\")"
   ]
  },
  {
   "cell_type": "code",
   "execution_count": null,
   "metadata": {},
   "outputs": [],
   "source": []
  },
  {
   "cell_type": "code",
   "execution_count": null,
   "metadata": {},
   "outputs": [],
   "source": []
  }
 ],
 "metadata": {
  "kernelspec": {
   "display_name": "ift6758-conda-env",
   "language": "python",
   "name": "ift6758-conda-env"
  },
  "language_info": {
   "codemirror_mode": {
    "name": "ipython",
    "version": 3
   },
   "file_extension": ".py",
   "mimetype": "text/x-python",
   "name": "python",
   "nbconvert_exporter": "python",
   "pygments_lexer": "ipython3",
   "version": "3.9.7"
  }
 },
 "nbformat": 4,
 "nbformat_minor": 1
}