{
 "cells": [
  {
   "cell_type": "markdown",
   "id": "dedd5bb0-0c41-4e99-9e13-0aabaeac9bba",
   "metadata": {},
   "source": [
    "# Sample code for Question 1\n",
    "\n",
    "This notebook shows how you can use the provided Python function to pull player stats from an online website.\n",
    "This function lives in a custom package that is provided to you in this repository.\n",
    "You are encouraged to leverage this package as a skeleton and add all of your reusable code, functions, etc. into relevant modules.\n",
    "This makes collaboration much easier as the package could be seen as a \"single source of truth\" to pull data, create visualizations, etc. rather than relying on a jumble of notebooks.\n",
    "You can still run into trouble if branches are not frequently merged as work progresses, so try to not let your branches diverge too much."
   ]
  },
  {
   "cell_type": "code",
   "execution_count": 39,
   "id": "51fe610c-9647-48a6-a49c-c0ee26d5b28b",
   "metadata": {},
   "outputs": [],
   "source": [
    "import pandas as pd\n",
    "\n",
    "from ift6758.data import get_player_stats"
   ]
  },
  {
   "cell_type": "markdown",
   "id": "64ac3fbd-9100-43df-b100-b3589a34602b",
   "metadata": {},
   "source": [
    "If the above doesn't work for you, make sure you've installed the repo as specified in the readme file. \n",
    "Essentially you must make sure that your environment is setup (either through conda or virtualenv), and then install it using:\n",
    "\n",
    "```bash\n",
    "pip install -e /path/to/repo \n",
    "```\n",
    "\n",
    "The nice thing using this approach is if you have your environment activated, you can import modules from anywhere on your system!"
   ]
  },
  {
   "cell_type": "code",
   "execution_count": 40,
   "id": "663c6229-089f-4244-945e-e81540698e3e",
   "metadata": {},
   "outputs": [
    {
     "name": "stdout",
     "output_type": "stream",
     "text": [
      "Retrieving data from 'https://www.hockey-reference.com/leagues/NHL_2017_goalies.html'...\n"
     ]
    }
   ],
   "source": [
    "df = get_player_stats(2017, 'goalies')"
   ]
  },
  {
   "cell_type": "markdown",
   "id": "f2288804-5936-45f8-b186-bc9bccbbaf4d",
   "metadata": {},
   "source": [
    "If you're curious, this function uses the `pd.read_html()` method ([doc](https://pandas.pydata.org/pandas-docs/stable/reference/api/pandas.read_html.html)), which internally uses [Beautiful Soup](https://www.crummy.com/software/BeautifulSoup/bs4/doc/) to parse HTML data."
   ]
  },
  {
   "cell_type": "code",
   "execution_count": 41,
   "id": "78f8a1a2-8262-4966-9a8d-38b1e516e2c8",
   "metadata": {},
   "outputs": [
    {
     "data": {
      "text/plain": "  Rk             Player Age   Tm  GP  GS   W   L T/O   GA  ...   MIN  QS  \\\n0  1         Jake Allen  26  STL  61  60  33  20   5  138  ...  3418  33   \n1  2        Jorge Alves  38  CAR   1   0   0   0   0    0  ...     0   0   \n2  3  Frederik Andersen  27  TOR  66  66  33  16  14  169  ...  3799  38   \n3  4     Craig Anderson  35  OTT  40  40  25  11   4   92  ...  2421  25   \n4  5    Richard Bachman  29  VAN   5   5   2   3   0   13  ...   295   2   \n\n    QS% RBS GA%-   GSAA  G  A PTS PIM  \n0  .550  11   98   2.20  0  1   1   4  \n1   NaN   0  NaN    NaN  0  0   0   0  \n2  .576  11   95   8.58  0  1   1  16  \n3  .625   4   85  15.92  0  1   1   0  \n4  .400   0  NaN    NaN  0  0   0   0  \n\n[5 rows x 26 columns]",
      "text/html": "<div>\n<style scoped>\n    .dataframe tbody tr th:only-of-type {\n        vertical-align: middle;\n    }\n\n    .dataframe tbody tr th {\n        vertical-align: top;\n    }\n\n    .dataframe thead th {\n        text-align: right;\n    }\n</style>\n<table border=\"1\" class=\"dataframe\">\n  <thead>\n    <tr style=\"text-align: right;\">\n      <th></th>\n      <th>Rk</th>\n      <th>Player</th>\n      <th>Age</th>\n      <th>Tm</th>\n      <th>GP</th>\n      <th>GS</th>\n      <th>W</th>\n      <th>L</th>\n      <th>T/O</th>\n      <th>GA</th>\n      <th>...</th>\n      <th>MIN</th>\n      <th>QS</th>\n      <th>QS%</th>\n      <th>RBS</th>\n      <th>GA%-</th>\n      <th>GSAA</th>\n      <th>G</th>\n      <th>A</th>\n      <th>PTS</th>\n      <th>PIM</th>\n    </tr>\n  </thead>\n  <tbody>\n    <tr>\n      <th>0</th>\n      <td>1</td>\n      <td>Jake Allen</td>\n      <td>26</td>\n      <td>STL</td>\n      <td>61</td>\n      <td>60</td>\n      <td>33</td>\n      <td>20</td>\n      <td>5</td>\n      <td>138</td>\n      <td>...</td>\n      <td>3418</td>\n      <td>33</td>\n      <td>.550</td>\n      <td>11</td>\n      <td>98</td>\n      <td>2.20</td>\n      <td>0</td>\n      <td>1</td>\n      <td>1</td>\n      <td>4</td>\n    </tr>\n    <tr>\n      <th>1</th>\n      <td>2</td>\n      <td>Jorge Alves</td>\n      <td>38</td>\n      <td>CAR</td>\n      <td>1</td>\n      <td>0</td>\n      <td>0</td>\n      <td>0</td>\n      <td>0</td>\n      <td>0</td>\n      <td>...</td>\n      <td>0</td>\n      <td>0</td>\n      <td>NaN</td>\n      <td>0</td>\n      <td>NaN</td>\n      <td>NaN</td>\n      <td>0</td>\n      <td>0</td>\n      <td>0</td>\n      <td>0</td>\n    </tr>\n    <tr>\n      <th>2</th>\n      <td>3</td>\n      <td>Frederik Andersen</td>\n      <td>27</td>\n      <td>TOR</td>\n      <td>66</td>\n      <td>66</td>\n      <td>33</td>\n      <td>16</td>\n      <td>14</td>\n      <td>169</td>\n      <td>...</td>\n      <td>3799</td>\n      <td>38</td>\n      <td>.576</td>\n      <td>11</td>\n      <td>95</td>\n      <td>8.58</td>\n      <td>0</td>\n      <td>1</td>\n      <td>1</td>\n      <td>16</td>\n    </tr>\n    <tr>\n      <th>3</th>\n      <td>4</td>\n      <td>Craig Anderson</td>\n      <td>35</td>\n      <td>OTT</td>\n      <td>40</td>\n      <td>40</td>\n      <td>25</td>\n      <td>11</td>\n      <td>4</td>\n      <td>92</td>\n      <td>...</td>\n      <td>2421</td>\n      <td>25</td>\n      <td>.625</td>\n      <td>4</td>\n      <td>85</td>\n      <td>15.92</td>\n      <td>0</td>\n      <td>1</td>\n      <td>1</td>\n      <td>0</td>\n    </tr>\n    <tr>\n      <th>4</th>\n      <td>5</td>\n      <td>Richard Bachman</td>\n      <td>29</td>\n      <td>VAN</td>\n      <td>5</td>\n      <td>5</td>\n      <td>2</td>\n      <td>3</td>\n      <td>0</td>\n      <td>13</td>\n      <td>...</td>\n      <td>295</td>\n      <td>2</td>\n      <td>.400</td>\n      <td>0</td>\n      <td>NaN</td>\n      <td>NaN</td>\n      <td>0</td>\n      <td>0</td>\n      <td>0</td>\n      <td>0</td>\n    </tr>\n  </tbody>\n</table>\n<p>5 rows × 26 columns</p>\n</div>"
     },
     "execution_count": 41,
     "metadata": {},
     "output_type": "execute_result"
    }
   ],
   "source": [
    "df.head()"
   ]
  },
  {
   "cell_type": "code",
   "execution_count": 42,
   "id": "c45b2cd1-ffad-4a03-90ee-b33be167c407",
   "metadata": {
    "pycharm": {
     "name": "#%%\n"
    }
   },
   "outputs": [
    {
     "name": "stdout",
     "output_type": "stream",
     "text": [
      "                  Player   W    SV%\n",
      "85       Dustin Tokarski   0  1.000\n",
      "11         Jack Campbell   0  1.000\n",
      "63      Alex Nedeljkovic   0  1.000\n",
      "29   Kristers Gudlevskis   0  1.000\n",
      "26           Jon Gillies   1  0.964\n",
      "51      Charlie Lindgren   2  0.949\n",
      "81          Alex Stalock   1  0.944\n",
      "9       Sergei Bobrovsky  41  0.931\n",
      "17            Aaron Dell  11  0.931\n",
      "33       Magnus Hellberg   1  0.929\n",
      "82       Anthony Stolarz   2  0.928\n",
      "10      Laurent Brossoit   4  0.928\n",
      "36          Jimmy Howard  10  0.927\n",
      "8         Antoine Bibeau   1  0.927\n",
      "3         Craig Anderson  25  0.926\n",
      "28      Philipp Grubauer  13  0.926\n",
      "35         Braden Holtby  42  0.925\n",
      "25           John Gibson  25  0.924\n",
      "16         Scott Darling  18  0.924\n",
      "70           Carey Price  37  0.923\n",
      "20          Devan Dubnyk  40  0.923\n",
      "77           Juuse Saros  10  0.923\n",
      "66        Anders Nilsson  10  0.923\n",
      "62           Matt Murray  32  0.923\n",
      "72          Antti Raanta  16  0.922\n",
      "48          Robin Lehner  23  0.920\n",
      "74          James Reimer  18  0.920\n",
      "4        Richard Bachman   2  0.920\n",
      "84            Cam Talbot  42  0.919\n",
      "75           Pekka Rinne  31  0.918\n",
      "15        Corey Crawford  32  0.918\n",
      "2      Frederik Andersen  33  0.918\n",
      "71        Jonathan Quick   8  0.917\n",
      "86         Linus Ullmark   0  0.917\n",
      "88    Andrei Vasilevskiy  23  0.917\n",
      "94     Curtis McElhinney   8  0.917\n",
      "43         Keith Kinkaid   8  0.916\n",
      "73           Tuukka Rask  37  0.915\n",
      "92           Peter Budaj  30  0.915\n",
      "53        Roberto Luongo  17  0.915\n",
      "0             Jake Allen  33  0.915\n",
      "31        Jaroslav Halak  12  0.915\n",
      "5       Jonathan Bernier  21  0.915\n",
      "59           Ryan Miller  18  0.914\n",
      "80            Mike Smith  19  0.914\n",
      "93           Mike Condon  19  0.914\n",
      "27         Thomas Greiss  26  0.913\n",
      "38         Carter Hutton  13  0.913\n",
      "60            Al Montoya   8  0.912\n",
      "41          Martin Jones  35  0.912\n",
      "21         Brian Elliott  26  0.910\n",
      "52      Henrik Lundqvist  31  0.910\n",
      "54       Jacob Markstrom  10  0.910\n",
      "40          Chad Johnson  18  0.910\n",
      "91            Ben Bishop  18  0.910\n",
      "23     Marc-Andre Fleury  18  0.909\n",
      "78        Cory Schneider  20  0.908\n",
      "56           Steve Mason  26  0.908\n",
      "18        Louis Domingue  11  0.908\n",
      "34     Connor Hellebuyck  26  0.907\n",
      "89              Cam Ward  26  0.905\n",
      "44      Joonas Korpisalo   7  0.905\n",
      "42        Anton Khudobin   7  0.904\n",
      "69        Calvin Pickard  15  0.904\n",
      "37    Michael Hutchinson   9  0.903\n",
      "49         Kari Lehtonen  22  0.902\n",
      "46            Eddie Läck   8  0.902\n",
      "45         Darcy Kuemper   8  0.902\n",
      "61           Petr Mrazek  18  0.901\n",
      "76         David Rittich   0  0.900\n",
      "68         Justin Peters   0  0.900\n",
      "87       Semyon Varlamov   6  0.898\n",
      "12           Eric Comrie   1  0.897\n",
      "65           Antti Niemi  12  0.892\n",
      "64       Michal Neuvirth  11  0.891\n",
      "7   Jean-Francois Berube   3  0.889\n",
      "67        Ondrej Pavelec   4  0.888\n",
      "79          Jeremy Smith   1  0.888\n",
      "14          Jared Coreau   5  0.887\n",
      "39         Tristan Jarry   0  0.880\n",
      "90          Jeff Zatkoff   2  0.879\n",
      "30      Jonas Gustavsson   1  0.878\n",
      "6             Reto Berra   0  0.876\n",
      "47       Marek Langhamer   0  0.875\n",
      "22         Jhonas Enroth   0  0.872\n",
      "50      Michael Leighton   2  0.870\n",
      "55        Spencer Martin   0  0.865\n",
      "58         Zane McIntyre   0  0.858\n",
      "24        Anton Forsberg   0  0.852\n",
      "57         Marek Mazanec   0  0.839\n",
      "32        Andrew Hammond   0  0.837\n",
      "13        Pheonix Copley   0  0.828\n",
      "83        Malcolm Subban   0  0.813\n",
      "19        Chris Driedger   0  0.733\n",
      "1            Jorge Alves   0  0.000\n"
     ]
    }
   ],
   "source": [
    "pd.set_option(\"max_rows\", None)  # Affiche toute les lignes\n",
    "\n",
    "df[\"SV%\"] = pd.to_numeric(df[\"SV%\"], errors='coerce').fillna(0)  # formate la colonne %SV en numérique et remplis les NaN par des 0\n",
    "sortedGoalie = df.sort_values(by=\"SV%\", ascending=False)\n",
    "\n",
    "print(sortedGoalie[[\"Player\", \"W\", \"SV%\"]])\n",
    "\n"
   ]
  },
  {
   "cell_type": "markdown",
   "source": [
    "Student : Un problème apparait clairement puisqu'on ne prends pas en compte les victoires des goal.\n",
    "On devrait trier les goals par victoire puis par SV%.\n",
    "\n",
    "Question 2:"
   ],
   "metadata": {
    "collapsed": false
   }
  },
  {
   "cell_type": "code",
   "execution_count": 43,
   "outputs": [
    {
     "name": "stdout",
     "output_type": "stream",
     "text": [
      "                  Player   W    SV%\n",
      "35         Braden Holtby  42  0.925\n",
      "84            Cam Talbot  42  0.919\n",
      "9       Sergei Bobrovsky  41  0.931\n",
      "20          Devan Dubnyk  40  0.923\n",
      "70           Carey Price  37  0.923\n",
      "73           Tuukka Rask  37  0.915\n",
      "41          Martin Jones  35  0.912\n",
      "2      Frederik Andersen  33  0.918\n",
      "0             Jake Allen  33  0.915\n",
      "62           Matt Murray  32  0.923\n",
      "15        Corey Crawford  32  0.918\n",
      "75           Pekka Rinne  31  0.918\n",
      "52      Henrik Lundqvist  31  0.910\n",
      "92           Peter Budaj  30  0.915\n",
      "27         Thomas Greiss  26  0.913\n",
      "21         Brian Elliott  26  0.910\n",
      "56           Steve Mason  26  0.908\n",
      "34     Connor Hellebuyck  26  0.907\n",
      "89              Cam Ward  26  0.905\n",
      "3         Craig Anderson  25  0.926\n",
      "25           John Gibson  25  0.924\n",
      "48          Robin Lehner  23  0.920\n",
      "88    Andrei Vasilevskiy  23  0.917\n",
      "49         Kari Lehtonen  22  0.902\n",
      "5       Jonathan Bernier  21  0.915\n",
      "78        Cory Schneider  20  0.908\n",
      "80            Mike Smith  19  0.914\n",
      "93           Mike Condon  19  0.914\n",
      "16         Scott Darling  18  0.924\n",
      "74          James Reimer  18  0.920\n",
      "59           Ryan Miller  18  0.914\n",
      "40          Chad Johnson  18  0.910\n",
      "91            Ben Bishop  18  0.910\n",
      "23     Marc-Andre Fleury  18  0.909\n",
      "61           Petr Mrazek  18  0.901\n",
      "53        Roberto Luongo  17  0.915\n",
      "72          Antti Raanta  16  0.922\n",
      "69        Calvin Pickard  15  0.904\n",
      "28      Philipp Grubauer  13  0.926\n",
      "38         Carter Hutton  13  0.913\n",
      "31        Jaroslav Halak  12  0.915\n",
      "65           Antti Niemi  12  0.892\n",
      "17            Aaron Dell  11  0.931\n",
      "18        Louis Domingue  11  0.908\n",
      "64       Michal Neuvirth  11  0.891\n",
      "36          Jimmy Howard  10  0.927\n",
      "66        Anders Nilsson  10  0.923\n",
      "77           Juuse Saros  10  0.923\n",
      "54       Jacob Markstrom  10  0.910\n",
      "37    Michael Hutchinson   9  0.903\n",
      "71        Jonathan Quick   8  0.917\n",
      "94     Curtis McElhinney   8  0.917\n",
      "43         Keith Kinkaid   8  0.916\n",
      "60            Al Montoya   8  0.912\n",
      "45         Darcy Kuemper   8  0.902\n",
      "46            Eddie Läck   8  0.902\n",
      "44      Joonas Korpisalo   7  0.905\n",
      "42        Anton Khudobin   7  0.904\n",
      "87       Semyon Varlamov   6  0.898\n",
      "14          Jared Coreau   5  0.887\n",
      "10      Laurent Brossoit   4  0.928\n",
      "67        Ondrej Pavelec   4  0.888\n",
      "7   Jean-Francois Berube   3  0.889\n",
      "51      Charlie Lindgren   2  0.949\n",
      "82       Anthony Stolarz   2  0.928\n",
      "4        Richard Bachman   2  0.920\n",
      "90          Jeff Zatkoff   2  0.879\n",
      "50      Michael Leighton   2  0.870\n",
      "26           Jon Gillies   1  0.964\n",
      "81          Alex Stalock   1  0.944\n",
      "33       Magnus Hellberg   1  0.929\n",
      "8         Antoine Bibeau   1  0.927\n",
      "12           Eric Comrie   1  0.897\n",
      "79          Jeremy Smith   1  0.888\n",
      "30      Jonas Gustavsson   1  0.878\n",
      "11         Jack Campbell   0  1.000\n",
      "29   Kristers Gudlevskis   0  1.000\n",
      "63      Alex Nedeljkovic   0  1.000\n",
      "85       Dustin Tokarski   0  1.000\n",
      "86         Linus Ullmark   0  0.917\n",
      "68         Justin Peters   0  0.900\n",
      "76         David Rittich   0  0.900\n",
      "39         Tristan Jarry   0  0.880\n",
      "6             Reto Berra   0  0.876\n",
      "47       Marek Langhamer   0  0.875\n",
      "22         Jhonas Enroth   0  0.872\n",
      "55        Spencer Martin   0  0.865\n",
      "58         Zane McIntyre   0  0.858\n",
      "24        Anton Forsberg   0  0.852\n",
      "57         Marek Mazanec   0  0.839\n",
      "32        Andrew Hammond   0  0.837\n",
      "13        Pheonix Copley   0  0.828\n",
      "83        Malcolm Subban   0  0.813\n",
      "19        Chris Driedger   0  0.733\n",
      "1            Jorge Alves   0  0.000\n"
     ]
    }
   ],
   "source": [
    "df[\"W\"] = pd.to_numeric(df[\"W\"], errors='coerce')\n",
    "reSortedGoalie = df.sort_values(by=[\"W\", \"SV%\"], ascending=False)\n",
    "\n",
    "print(reSortedGoalie[[\"Player\", \"W\", \"SV%\"]])"
   ],
   "metadata": {
    "collapsed": false,
    "pycharm": {
     "name": "#%%\n"
    }
   }
  },
  {
   "cell_type": "markdown",
   "source": [
    "Graphique"
   ],
   "metadata": {
    "collapsed": false,
    "pycharm": {
     "name": "#%% md\n"
    }
   }
  },
  {
   "cell_type": "code",
   "execution_count": 44,
   "outputs": [
    {
     "data": {
      "text/plain": "<Figure size 432x288 with 1 Axes>",
      "image/png": "[encoded data removed]"
     },
     "metadata": {
      "needs_background": "light"
     },
     "output_type": "display_data"
    }
   ],
   "source": [
    "import matplotlib.pyplot as plt\n",
    "import numpy as np\n",
    "\n",
    "x = np.arange(20)\n",
    "histo = plt.bar(x, height=reSortedGoalie[\"SV%\"][:20])\n",
    "plt.xticks(x, reSortedGoalie[\"Player\"][:20], rotation=90)\n",
    "plt.axis([-1, 20, min(reSortedGoalie[\"SV%\"][:20]), max(reSortedGoalie[\"SV%\"][:20])])\n",
    "plt.title(\"Pourcentage d'arrêts sur le classement des 20 meilleurs gardiens\")\n",
    "plt.xlabel(\"Gardiens\")\n",
    "plt.ylabel(\"VS%\")\n",
    "plt.show()\n"
   ],
   "metadata": {
    "collapsed": false,
    "pycharm": {
     "name": "#%%\n"
    }
   }
  }
 ],
 "metadata": {
  "kernelspec": {
   "name": "ift6758-conda-env",
   "language": "python",
   "display_name": "ift6758-conda-env"
  },
  "language_info": {
   "codemirror_mode": {
    "name": "ipython",
    "version": 3
   },
   "file_extension": ".py",
   "mimetype": "text/x-python",
   "name": "python",
   "nbconvert_exporter": "python",
   "pygments_lexer": "ipython3",
   "version": "3.9.7"
  }
 },
 "nbformat": 4,
 "nbformat_minor": 5
}